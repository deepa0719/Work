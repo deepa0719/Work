{
 "cells": [
  {
   "cell_type": "code",
   "execution_count": 1,
   "metadata": {
    "id": "3IARAjFNy8ny"
   },
   "outputs": [],
   "source": [
    "import numpy as np\n",
    "import pandas as pd\n",
    "import math\n",
    "import random\n",
    "import matplotlib.pyplot as plt"
   ]
  },
  {
   "cell_type": "code",
   "execution_count": 2,
   "metadata": {
    "colab": {
     "base_uri": "https://localhost:8080/",
     "height": 507
    },
    "id": "AerdA8g4y8n8",
    "outputId": "85a3bdbe-c04f-4df2-e836-ec33a3b407a0"
   },
   "outputs": [
    {
     "data": {
      "text/html": [
       "<div>\n",
       "<style scoped>\n",
       "    .dataframe tbody tr th:only-of-type {\n",
       "        vertical-align: middle;\n",
       "    }\n",
       "\n",
       "    .dataframe tbody tr th {\n",
       "        vertical-align: top;\n",
       "    }\n",
       "\n",
       "    .dataframe thead th {\n",
       "        text-align: right;\n",
       "    }\n",
       "</style>\n",
       "<table border=\"1\" class=\"dataframe\">\n",
       "  <thead>\n",
       "    <tr style=\"text-align: right;\">\n",
       "      <th></th>\n",
       "      <th>car_ID</th>\n",
       "      <th>symboling</th>\n",
       "      <th>CarName</th>\n",
       "      <th>fueltype</th>\n",
       "      <th>aspiration</th>\n",
       "      <th>doornumber</th>\n",
       "      <th>carbody</th>\n",
       "      <th>drivewheel</th>\n",
       "      <th>enginelocation</th>\n",
       "      <th>wheelbase</th>\n",
       "      <th>...</th>\n",
       "      <th>enginesize</th>\n",
       "      <th>fuelsystem</th>\n",
       "      <th>boreratio</th>\n",
       "      <th>stroke</th>\n",
       "      <th>compressionratio</th>\n",
       "      <th>horsepower</th>\n",
       "      <th>peakrpm</th>\n",
       "      <th>citympg</th>\n",
       "      <th>highwaympg</th>\n",
       "      <th>price</th>\n",
       "    </tr>\n",
       "  </thead>\n",
       "  <tbody>\n",
       "    <tr>\n",
       "      <th>0</th>\n",
       "      <td>1</td>\n",
       "      <td>3</td>\n",
       "      <td>alfa-romero giulia</td>\n",
       "      <td>gas</td>\n",
       "      <td>std</td>\n",
       "      <td>two</td>\n",
       "      <td>convertible</td>\n",
       "      <td>rwd</td>\n",
       "      <td>front</td>\n",
       "      <td>88.6</td>\n",
       "      <td>...</td>\n",
       "      <td>130</td>\n",
       "      <td>mpfi</td>\n",
       "      <td>3.47</td>\n",
       "      <td>2.68</td>\n",
       "      <td>9.0</td>\n",
       "      <td>111</td>\n",
       "      <td>5000</td>\n",
       "      <td>21</td>\n",
       "      <td>27</td>\n",
       "      <td>13495.0</td>\n",
       "    </tr>\n",
       "    <tr>\n",
       "      <th>1</th>\n",
       "      <td>2</td>\n",
       "      <td>3</td>\n",
       "      <td>alfa-romero stelvio</td>\n",
       "      <td>gas</td>\n",
       "      <td>std</td>\n",
       "      <td>two</td>\n",
       "      <td>convertible</td>\n",
       "      <td>rwd</td>\n",
       "      <td>front</td>\n",
       "      <td>88.6</td>\n",
       "      <td>...</td>\n",
       "      <td>130</td>\n",
       "      <td>mpfi</td>\n",
       "      <td>3.47</td>\n",
       "      <td>2.68</td>\n",
       "      <td>9.0</td>\n",
       "      <td>111</td>\n",
       "      <td>5000</td>\n",
       "      <td>21</td>\n",
       "      <td>27</td>\n",
       "      <td>16500.0</td>\n",
       "    </tr>\n",
       "    <tr>\n",
       "      <th>2</th>\n",
       "      <td>3</td>\n",
       "      <td>1</td>\n",
       "      <td>alfa-romero Quadrifoglio</td>\n",
       "      <td>gas</td>\n",
       "      <td>std</td>\n",
       "      <td>two</td>\n",
       "      <td>hatchback</td>\n",
       "      <td>rwd</td>\n",
       "      <td>front</td>\n",
       "      <td>94.5</td>\n",
       "      <td>...</td>\n",
       "      <td>152</td>\n",
       "      <td>mpfi</td>\n",
       "      <td>2.68</td>\n",
       "      <td>3.47</td>\n",
       "      <td>9.0</td>\n",
       "      <td>154</td>\n",
       "      <td>5000</td>\n",
       "      <td>19</td>\n",
       "      <td>26</td>\n",
       "      <td>16500.0</td>\n",
       "    </tr>\n",
       "    <tr>\n",
       "      <th>3</th>\n",
       "      <td>4</td>\n",
       "      <td>2</td>\n",
       "      <td>audi 100 ls</td>\n",
       "      <td>gas</td>\n",
       "      <td>std</td>\n",
       "      <td>four</td>\n",
       "      <td>sedan</td>\n",
       "      <td>fwd</td>\n",
       "      <td>front</td>\n",
       "      <td>99.8</td>\n",
       "      <td>...</td>\n",
       "      <td>109</td>\n",
       "      <td>mpfi</td>\n",
       "      <td>3.19</td>\n",
       "      <td>3.40</td>\n",
       "      <td>10.0</td>\n",
       "      <td>102</td>\n",
       "      <td>5500</td>\n",
       "      <td>24</td>\n",
       "      <td>30</td>\n",
       "      <td>13950.0</td>\n",
       "    </tr>\n",
       "    <tr>\n",
       "      <th>4</th>\n",
       "      <td>5</td>\n",
       "      <td>2</td>\n",
       "      <td>audi 100ls</td>\n",
       "      <td>gas</td>\n",
       "      <td>std</td>\n",
       "      <td>four</td>\n",
       "      <td>sedan</td>\n",
       "      <td>4wd</td>\n",
       "      <td>front</td>\n",
       "      <td>99.4</td>\n",
       "      <td>...</td>\n",
       "      <td>136</td>\n",
       "      <td>mpfi</td>\n",
       "      <td>3.19</td>\n",
       "      <td>3.40</td>\n",
       "      <td>8.0</td>\n",
       "      <td>115</td>\n",
       "      <td>5500</td>\n",
       "      <td>18</td>\n",
       "      <td>22</td>\n",
       "      <td>17450.0</td>\n",
       "    </tr>\n",
       "    <tr>\n",
       "      <th>...</th>\n",
       "      <td>...</td>\n",
       "      <td>...</td>\n",
       "      <td>...</td>\n",
       "      <td>...</td>\n",
       "      <td>...</td>\n",
       "      <td>...</td>\n",
       "      <td>...</td>\n",
       "      <td>...</td>\n",
       "      <td>...</td>\n",
       "      <td>...</td>\n",
       "      <td>...</td>\n",
       "      <td>...</td>\n",
       "      <td>...</td>\n",
       "      <td>...</td>\n",
       "      <td>...</td>\n",
       "      <td>...</td>\n",
       "      <td>...</td>\n",
       "      <td>...</td>\n",
       "      <td>...</td>\n",
       "      <td>...</td>\n",
       "      <td>...</td>\n",
       "    </tr>\n",
       "    <tr>\n",
       "      <th>200</th>\n",
       "      <td>201</td>\n",
       "      <td>-1</td>\n",
       "      <td>volvo 145e (sw)</td>\n",
       "      <td>gas</td>\n",
       "      <td>std</td>\n",
       "      <td>four</td>\n",
       "      <td>sedan</td>\n",
       "      <td>rwd</td>\n",
       "      <td>front</td>\n",
       "      <td>109.1</td>\n",
       "      <td>...</td>\n",
       "      <td>141</td>\n",
       "      <td>mpfi</td>\n",
       "      <td>3.78</td>\n",
       "      <td>3.15</td>\n",
       "      <td>9.5</td>\n",
       "      <td>114</td>\n",
       "      <td>5400</td>\n",
       "      <td>23</td>\n",
       "      <td>28</td>\n",
       "      <td>16845.0</td>\n",
       "    </tr>\n",
       "    <tr>\n",
       "      <th>201</th>\n",
       "      <td>202</td>\n",
       "      <td>-1</td>\n",
       "      <td>volvo 144ea</td>\n",
       "      <td>gas</td>\n",
       "      <td>turbo</td>\n",
       "      <td>four</td>\n",
       "      <td>sedan</td>\n",
       "      <td>rwd</td>\n",
       "      <td>front</td>\n",
       "      <td>109.1</td>\n",
       "      <td>...</td>\n",
       "      <td>141</td>\n",
       "      <td>mpfi</td>\n",
       "      <td>3.78</td>\n",
       "      <td>3.15</td>\n",
       "      <td>8.7</td>\n",
       "      <td>160</td>\n",
       "      <td>5300</td>\n",
       "      <td>19</td>\n",
       "      <td>25</td>\n",
       "      <td>19045.0</td>\n",
       "    </tr>\n",
       "    <tr>\n",
       "      <th>202</th>\n",
       "      <td>203</td>\n",
       "      <td>-1</td>\n",
       "      <td>volvo 244dl</td>\n",
       "      <td>gas</td>\n",
       "      <td>std</td>\n",
       "      <td>four</td>\n",
       "      <td>sedan</td>\n",
       "      <td>rwd</td>\n",
       "      <td>front</td>\n",
       "      <td>109.1</td>\n",
       "      <td>...</td>\n",
       "      <td>173</td>\n",
       "      <td>mpfi</td>\n",
       "      <td>3.58</td>\n",
       "      <td>2.87</td>\n",
       "      <td>8.8</td>\n",
       "      <td>134</td>\n",
       "      <td>5500</td>\n",
       "      <td>18</td>\n",
       "      <td>23</td>\n",
       "      <td>21485.0</td>\n",
       "    </tr>\n",
       "    <tr>\n",
       "      <th>203</th>\n",
       "      <td>204</td>\n",
       "      <td>-1</td>\n",
       "      <td>volvo 246</td>\n",
       "      <td>diesel</td>\n",
       "      <td>turbo</td>\n",
       "      <td>four</td>\n",
       "      <td>sedan</td>\n",
       "      <td>rwd</td>\n",
       "      <td>front</td>\n",
       "      <td>109.1</td>\n",
       "      <td>...</td>\n",
       "      <td>145</td>\n",
       "      <td>idi</td>\n",
       "      <td>3.01</td>\n",
       "      <td>3.40</td>\n",
       "      <td>23.0</td>\n",
       "      <td>106</td>\n",
       "      <td>4800</td>\n",
       "      <td>26</td>\n",
       "      <td>27</td>\n",
       "      <td>22470.0</td>\n",
       "    </tr>\n",
       "    <tr>\n",
       "      <th>204</th>\n",
       "      <td>205</td>\n",
       "      <td>-1</td>\n",
       "      <td>volvo 264gl</td>\n",
       "      <td>gas</td>\n",
       "      <td>turbo</td>\n",
       "      <td>four</td>\n",
       "      <td>sedan</td>\n",
       "      <td>rwd</td>\n",
       "      <td>front</td>\n",
       "      <td>109.1</td>\n",
       "      <td>...</td>\n",
       "      <td>141</td>\n",
       "      <td>mpfi</td>\n",
       "      <td>3.78</td>\n",
       "      <td>3.15</td>\n",
       "      <td>9.5</td>\n",
       "      <td>114</td>\n",
       "      <td>5400</td>\n",
       "      <td>19</td>\n",
       "      <td>25</td>\n",
       "      <td>22625.0</td>\n",
       "    </tr>\n",
       "  </tbody>\n",
       "</table>\n",
       "<p>205 rows × 26 columns</p>\n",
       "</div>"
      ],
      "text/plain": [
       "     car_ID  symboling                   CarName fueltype aspiration  \\\n",
       "0         1          3        alfa-romero giulia      gas        std   \n",
       "1         2          3       alfa-romero stelvio      gas        std   \n",
       "2         3          1  alfa-romero Quadrifoglio      gas        std   \n",
       "3         4          2               audi 100 ls      gas        std   \n",
       "4         5          2                audi 100ls      gas        std   \n",
       "..      ...        ...                       ...      ...        ...   \n",
       "200     201         -1           volvo 145e (sw)      gas        std   \n",
       "201     202         -1               volvo 144ea      gas      turbo   \n",
       "202     203         -1               volvo 244dl      gas        std   \n",
       "203     204         -1                 volvo 246   diesel      turbo   \n",
       "204     205         -1               volvo 264gl      gas      turbo   \n",
       "\n",
       "    doornumber      carbody drivewheel enginelocation  wheelbase  ...  \\\n",
       "0          two  convertible        rwd          front       88.6  ...   \n",
       "1          two  convertible        rwd          front       88.6  ...   \n",
       "2          two    hatchback        rwd          front       94.5  ...   \n",
       "3         four        sedan        fwd          front       99.8  ...   \n",
       "4         four        sedan        4wd          front       99.4  ...   \n",
       "..         ...          ...        ...            ...        ...  ...   \n",
       "200       four        sedan        rwd          front      109.1  ...   \n",
       "201       four        sedan        rwd          front      109.1  ...   \n",
       "202       four        sedan        rwd          front      109.1  ...   \n",
       "203       four        sedan        rwd          front      109.1  ...   \n",
       "204       four        sedan        rwd          front      109.1  ...   \n",
       "\n",
       "     enginesize  fuelsystem  boreratio  stroke compressionratio horsepower  \\\n",
       "0           130        mpfi       3.47    2.68              9.0        111   \n",
       "1           130        mpfi       3.47    2.68              9.0        111   \n",
       "2           152        mpfi       2.68    3.47              9.0        154   \n",
       "3           109        mpfi       3.19    3.40             10.0        102   \n",
       "4           136        mpfi       3.19    3.40              8.0        115   \n",
       "..          ...         ...        ...     ...              ...        ...   \n",
       "200         141        mpfi       3.78    3.15              9.5        114   \n",
       "201         141        mpfi       3.78    3.15              8.7        160   \n",
       "202         173        mpfi       3.58    2.87              8.8        134   \n",
       "203         145         idi       3.01    3.40             23.0        106   \n",
       "204         141        mpfi       3.78    3.15              9.5        114   \n",
       "\n",
       "     peakrpm citympg  highwaympg    price  \n",
       "0       5000      21          27  13495.0  \n",
       "1       5000      21          27  16500.0  \n",
       "2       5000      19          26  16500.0  \n",
       "3       5500      24          30  13950.0  \n",
       "4       5500      18          22  17450.0  \n",
       "..       ...     ...         ...      ...  \n",
       "200     5400      23          28  16845.0  \n",
       "201     5300      19          25  19045.0  \n",
       "202     5500      18          23  21485.0  \n",
       "203     4800      26          27  22470.0  \n",
       "204     5400      19          25  22625.0  \n",
       "\n",
       "[205 rows x 26 columns]"
      ]
     },
     "execution_count": 2,
     "metadata": {},
     "output_type": "execute_result"
    }
   ],
   "source": [
    "ww=pd.read_csv(\"CarPrice_Assignment.csv\")\n",
    "ww=ww.dropna()\n",
    "ww"
   ]
  },
  {
   "cell_type": "code",
   "execution_count": 3,
   "metadata": {
    "colab": {
     "base_uri": "https://localhost:8080/",
     "height": 419
    },
    "id": "r6Pc0Oc0y8n9",
    "outputId": "ba6dc1aa-dc79-4fb9-944b-64a42abfae16"
   },
   "outputs": [
    {
     "name": "stderr",
     "output_type": "stream",
     "text": [
      "<ipython-input-3-1b54850438aa>:7: SettingWithCopyWarning: \n",
      "A value is trying to be set on a copy of a slice from a DataFrame\n",
      "\n",
      "See the caveats in the documentation: https://pandas.pydata.org/pandas-docs/stable/user_guide/indexing.html#returning-a-view-versus-a-copy\n",
      "  df['price'][i]='high'\n",
      "C:\\Users\\Utsav Parekh\\anaconda3\\lib\\site-packages\\pandas\\core\\indexing.py:670: SettingWithCopyWarning: \n",
      "A value is trying to be set on a copy of a slice from a DataFrame\n",
      "\n",
      "See the caveats in the documentation: https://pandas.pydata.org/pandas-docs/stable/user_guide/indexing.html#returning-a-view-versus-a-copy\n",
      "  iloc._setitem_with_indexer(indexer, value)\n"
     ]
    },
    {
     "data": {
      "text/html": [
       "<div>\n",
       "<style scoped>\n",
       "    .dataframe tbody tr th:only-of-type {\n",
       "        vertical-align: middle;\n",
       "    }\n",
       "\n",
       "    .dataframe tbody tr th {\n",
       "        vertical-align: top;\n",
       "    }\n",
       "\n",
       "    .dataframe thead th {\n",
       "        text-align: right;\n",
       "    }\n",
       "</style>\n",
       "<table border=\"1\" class=\"dataframe\">\n",
       "  <thead>\n",
       "    <tr style=\"text-align: right;\">\n",
       "      <th></th>\n",
       "      <th>fueltype</th>\n",
       "      <th>doornumber</th>\n",
       "      <th>aspiration</th>\n",
       "      <th>price</th>\n",
       "    </tr>\n",
       "  </thead>\n",
       "  <tbody>\n",
       "    <tr>\n",
       "      <th>0</th>\n",
       "      <td>gas</td>\n",
       "      <td>two</td>\n",
       "      <td>std</td>\n",
       "      <td>high</td>\n",
       "    </tr>\n",
       "    <tr>\n",
       "      <th>1</th>\n",
       "      <td>gas</td>\n",
       "      <td>two</td>\n",
       "      <td>std</td>\n",
       "      <td>high</td>\n",
       "    </tr>\n",
       "    <tr>\n",
       "      <th>2</th>\n",
       "      <td>gas</td>\n",
       "      <td>two</td>\n",
       "      <td>std</td>\n",
       "      <td>high</td>\n",
       "    </tr>\n",
       "    <tr>\n",
       "      <th>3</th>\n",
       "      <td>gas</td>\n",
       "      <td>four</td>\n",
       "      <td>std</td>\n",
       "      <td>high</td>\n",
       "    </tr>\n",
       "    <tr>\n",
       "      <th>4</th>\n",
       "      <td>gas</td>\n",
       "      <td>four</td>\n",
       "      <td>std</td>\n",
       "      <td>high</td>\n",
       "    </tr>\n",
       "    <tr>\n",
       "      <th>...</th>\n",
       "      <td>...</td>\n",
       "      <td>...</td>\n",
       "      <td>...</td>\n",
       "      <td>...</td>\n",
       "    </tr>\n",
       "    <tr>\n",
       "      <th>200</th>\n",
       "      <td>gas</td>\n",
       "      <td>four</td>\n",
       "      <td>std</td>\n",
       "      <td>high</td>\n",
       "    </tr>\n",
       "    <tr>\n",
       "      <th>201</th>\n",
       "      <td>gas</td>\n",
       "      <td>four</td>\n",
       "      <td>turbo</td>\n",
       "      <td>high</td>\n",
       "    </tr>\n",
       "    <tr>\n",
       "      <th>202</th>\n",
       "      <td>gas</td>\n",
       "      <td>four</td>\n",
       "      <td>std</td>\n",
       "      <td>high</td>\n",
       "    </tr>\n",
       "    <tr>\n",
       "      <th>203</th>\n",
       "      <td>diesel</td>\n",
       "      <td>four</td>\n",
       "      <td>turbo</td>\n",
       "      <td>high</td>\n",
       "    </tr>\n",
       "    <tr>\n",
       "      <th>204</th>\n",
       "      <td>gas</td>\n",
       "      <td>four</td>\n",
       "      <td>turbo</td>\n",
       "      <td>high</td>\n",
       "    </tr>\n",
       "  </tbody>\n",
       "</table>\n",
       "<p>205 rows × 4 columns</p>\n",
       "</div>"
      ],
      "text/plain": [
       "    fueltype doornumber aspiration price\n",
       "0        gas        two        std  high\n",
       "1        gas        two        std  high\n",
       "2        gas        two        std  high\n",
       "3        gas       four        std  high\n",
       "4        gas       four        std  high\n",
       "..       ...        ...        ...   ...\n",
       "200      gas       four        std  high\n",
       "201      gas       four      turbo  high\n",
       "202      gas       four        std  high\n",
       "203   diesel       four      turbo  high\n",
       "204      gas       four      turbo  high\n",
       "\n",
       "[205 rows x 4 columns]"
      ]
     },
     "execution_count": 3,
     "metadata": {},
     "output_type": "execute_result"
    }
   ],
   "source": [
    "#Using Median Splitting:\n",
    "median = np.median(ww['price'])\n",
    "median=int(median)\n",
    "df = pd.DataFrame(ww,columns=['fueltype','doornumber','aspiration','price'])\n",
    "for i in range(len(df['price'])):\n",
    "    if(df['price'][i]>=median):\n",
    "        df['price'][i]='high'\n",
    "    else:\n",
    "        df['price'][i]='low'\n",
    "df"
   ]
  },
  {
   "cell_type": "markdown",
   "metadata": {},
   "source": [
    "# Finding Unique Values"
   ]
  },
  {
   "cell_type": "code",
   "execution_count": 4,
   "metadata": {
    "colab": {
     "base_uri": "https://localhost:8080/"
    },
    "id": "Jg18wWLpy8n-",
    "outputId": "b4edc843-1788-4580-b3e7-454d1e654495"
   },
   "outputs": [
    {
     "name": "stdout",
     "output_type": "stream",
     "text": [
      "['std' 'turbo']\n"
     ]
    }
   ],
   "source": [
    "aspiration_priority=df['aspiration'].unique()\n",
    "print(aspiration_priority)"
   ]
  },
  {
   "cell_type": "code",
   "execution_count": 5,
   "metadata": {
    "colab": {
     "base_uri": "https://localhost:8080/"
    },
    "id": "-X7fIXevy8n_",
    "outputId": "34e611eb-a095-44d2-8378-90570df67bd1"
   },
   "outputs": [
    {
     "name": "stdout",
     "output_type": "stream",
     "text": [
      "['gas' 'diesel']\n"
     ]
    }
   ],
   "source": [
    "fueltype_priority=df['fueltype'].unique()\n",
    "print(fueltype_priority)"
   ]
  },
  {
   "cell_type": "code",
   "execution_count": 6,
   "metadata": {
    "colab": {
     "base_uri": "https://localhost:8080/"
    },
    "id": "oKmzQ-iyy8n_",
    "outputId": "e3d716bf-1c36-455a-d084-aa7d3253ccd7"
   },
   "outputs": [
    {
     "name": "stdout",
     "output_type": "stream",
     "text": [
      "['two' 'four']\n"
     ]
    }
   ],
   "source": [
    "fuelsystem_priority=df['doornumber'].unique()\n",
    "print(fuelsystem_priority)"
   ]
  },
  {
   "cell_type": "code",
   "execution_count": 7,
   "metadata": {},
   "outputs": [
    {
     "name": "stdout",
     "output_type": "stream",
     "text": [
      "['high' 'low']\n"
     ]
    }
   ],
   "source": [
    "target_priority=df['price'].unique()\n",
    "global target_priority\n",
    "print(target_priority)"
   ]
  },
  {
   "cell_type": "markdown",
   "metadata": {},
   "source": [
    "# Finding Initial System Entropy"
   ]
  },
  {
   "cell_type": "code",
   "execution_count": 8,
   "metadata": {},
   "outputs": [
    {
     "name": "stdout",
     "output_type": "stream",
     "text": [
      "0.9999828352080604\n"
     ]
    }
   ],
   "source": [
    "l=len(df['price'])\n",
    "std_count=0\n",
    "t_count=0\n",
    "for i in range(l):\n",
    "    if(df['price'][i]=='low'):\n",
    "        std_count+=1\n",
    "    else:\n",
    "        t_count+=1\n",
    "ES=-(((std_count/len(df))*np.log2(std_count/len(df)))+((t_count/len(df))*np.log2(t_count/len(df))))\n",
    "print(ES)\n"
   ]
  },
  {
   "cell_type": "markdown",
   "metadata": {},
   "source": [
    "# Finding System Entropy"
   ]
  },
  {
   "cell_type": "code",
   "execution_count": 9,
   "metadata": {},
   "outputs": [],
   "source": [
    "def system_ent(df1):\n",
    "    ES=0\n",
    "    std_count=0\n",
    "    t_count=0\n",
    "    for i in df1['price']:\n",
    "        if(i=='low'):\n",
    "            std_count+=1\n",
    "        else:\n",
    "            t_count+=1\n",
    "    ES=-(((std_count/len(df1))*np.log2(std_count/len(df1)))+((t_count/len(df1))*np.log2(t_count/len(df1))))\n",
    "    return(ES)"
   ]
  },
  {
   "cell_type": "markdown",
   "metadata": {},
   "source": [
    "# Finding Entropy of an attribute"
   ]
  },
  {
   "cell_type": "code",
   "execution_count": 10,
   "metadata": {
    "id": "iZtZ5UN96VCq"
   },
   "outputs": [
    {
     "name": "stdout",
     "output_type": "stream",
     "text": [
      "Entropies:\n",
      "Doornumber: [0.9967916319816366, 0.9973256795690415] \n",
      "Fuel: [0.9989669987582559, 0.8812908992306927] \n",
      "Aspiration: [0.9875943537925622, 0.6997722217733069]\n"
     ]
    }
   ],
   "source": [
    "def entropy(col,target):\n",
    "    uniqval=col.unique()\n",
    "    target_priority=target.unique()\n",
    "    l=len(col)\n",
    "    e_u=[]\n",
    "    for j in range(len(uniqval)):\n",
    "        diesel_stdcounter=0\n",
    "        diesel_tcounter=0\n",
    "        diesel_count=0\n",
    "        ind=0\n",
    "        for i in col:\n",
    "            if(i==uniqval[j]):\n",
    "                k=col[col==i].index[ind]\n",
    "                ind+=1\n",
    "                diesel_count+=1\n",
    "                if(target[k]==target_priority[1]):\n",
    "                    diesel_stdcounter+=1\n",
    "                else:\n",
    "                    diesel_tcounter+=1\n",
    "        if(diesel_stdcounter==0 or diesel_tcounter==0):\n",
    "            e_u.append(0)\n",
    "        else:\n",
    "            a=(diesel_stdcounter/diesel_count)\n",
    "            b=(diesel_tcounter/diesel_count)\n",
    "            e_u.append(-((a*np.log2(a))+(b*np.log2(b))))\n",
    "    return e_u      \n",
    "        \n",
    "ent_door=entropy(df['doornumber'],df['price'])\n",
    "ent_fuel=entropy(df['fueltype'],df['price'])\n",
    "ent_asp=entropy(df['aspiration'],df['price'])\n",
    "print(\"Entropies:\")\n",
    "print(\"Doornumber:\",ent_door,\"\\nFuel:\",ent_fuel,\"\\nAspiration:\",ent_asp)"
   ]
  },
  {
   "cell_type": "markdown",
   "metadata": {},
   "source": [
    "# Finding Info Gain"
   ]
  },
  {
   "cell_type": "code",
   "execution_count": 11,
   "metadata": {},
   "outputs": [
    {
     "name": "stdout",
     "output_type": "stream",
     "text": [
      "Info Gain:\n",
      "Doornumber: 0.0028916155554404854 \n",
      "Fuel Type 0.012496431525664264 \n",
      "Aspiration: 0.06433686621897355\n"
     ]
    }
   ],
   "source": [
    "def infogain(ES,ent,col):\n",
    "    uniqval=col.unique()\n",
    "    l=len(col)\n",
    "    diesel_count=0\n",
    "    gas_count=0\n",
    "    total_count=l\n",
    "    for i in col:\n",
    "            if(i==uniqval[0]):\n",
    "                gas_count+=1\n",
    "            else:\n",
    "                diesel_count+=1\n",
    "    ig_f=ES-((gas_count/total_count)*ent[0])-((diesel_count/total_count)*ent[1])\n",
    "    return ig_f\n",
    "door_info=infogain(ES,ent_door,df['doornumber'])\n",
    "fuel_info=infogain(ES,ent_fuel,df['fueltype'])\n",
    "asp_info=infogain(ES,ent_asp,df['aspiration'])\n",
    "print(\"Info Gain:\")\n",
    "print(\"Doornumber:\",door_info,'\\nFuel Type',fuel_info,\"\\nAspiration:\",asp_info)"
   ]
  },
  {
   "cell_type": "code",
   "execution_count": 12,
   "metadata": {
    "scrolled": false
   },
   "outputs": [],
   "source": [
    "df1 = df[df['aspiration']=='std']\n",
    "df2 = df[df['aspiration']=='turbo']    "
   ]
  },
  {
   "cell_type": "code",
   "execution_count": 13,
   "metadata": {
    "scrolled": false
   },
   "outputs": [
    {
     "name": "stdout",
     "output_type": "stream",
     "text": [
      "Door entropy [0.9844268978000114, 0.989884644089986]\n",
      "Fuel entropy [0.9899303926829206, 0.863120568566631]\n",
      "Door Info Gain 0.000146203582029103\n",
      "Fuel Info Gain 0.002947703781153631\n"
     ]
    }
   ],
   "source": [
    "ES1=system_ent(df1)\n",
    "ent1_door=entropy(df1['doornumber'],df1['price'])\n",
    "ent1_fuel=entropy(df1['fueltype'],df1['price'])\n",
    "print(\"Door entropy\",ent1_door)\n",
    "print(\"Fuel entropy\",ent1_fuel)\n",
    "door_info1=infogain(ES1,ent1_door,df1['doornumber'])\n",
    "fuel_info1=infogain(ES1,ent1_fuel,df1['fueltype'])\n",
    "print(\"Door Info Gain\",door_info1)\n",
    "print(\"Fuel Info Gain\",fuel_info1)"
   ]
  },
  {
   "cell_type": "code",
   "execution_count": 14,
   "metadata": {},
   "outputs": [
    {
     "name": "stdout",
     "output_type": "stream",
     "text": [
      "    fueltype doornumber aspiration price\n",
      "0        gas        two        std  high\n",
      "1        gas        two        std  high\n",
      "2        gas        two        std  high\n",
      "3        gas       four        std  high\n",
      "4        gas       four        std  high\n",
      "..       ...        ...        ...   ...\n",
      "195      gas       four        std  high\n",
      "196      gas       four        std  high\n",
      "197      gas       four        std  high\n",
      "200      gas       four        std  high\n",
      "202      gas       four        std  high\n",
      "\n",
      "[161 rows x 4 columns] \n",
      "     fueltype doornumber aspiration price\n",
      "63    diesel       four        std  high\n",
      "66    diesel       four        std  high\n",
      "90    diesel        two        std   low\n",
      "158   diesel       four        std   low\n",
      "159   diesel       four        std   low\n",
      "182   diesel        two        std   low\n",
      "184   diesel       four        std   low\n"
     ]
    }
   ],
   "source": [
    "df5 = df1[df1['fueltype']=='gas']\n",
    "df6 = df1[df1['fueltype']=='diesel']  \n",
    "print(df5,'\\n',df6)"
   ]
  },
  {
   "cell_type": "code",
   "execution_count": 15,
   "metadata": {},
   "outputs": [
    {
     "name": "stdout",
     "output_type": "stream",
     "text": [
      "System Entropy for dataframe 5 0.9899303926829206\n"
     ]
    }
   ],
   "source": [
    "ES3=system_ent(df5)\n",
    "print(\"System Entropy for dataframe 5\", ES3)"
   ]
  },
  {
   "cell_type": "code",
   "execution_count": 16,
   "metadata": {},
   "outputs": [
    {
     "name": "stdout",
     "output_type": "stream",
     "text": [
      "System Entropy for dataframe 6 0.863120568566631\n"
     ]
    }
   ],
   "source": [
    "ES3=system_ent(df6)\n",
    "print(\"System Entropy for dataframe 6\", ES3)"
   ]
  },
  {
   "cell_type": "code",
   "execution_count": 17,
   "metadata": {},
   "outputs": [
    {
     "name": "stdout",
     "output_type": "stream",
     "text": [
      "Door entropy [0.4394969869215134, 0.9182958340544896]\n",
      "Fuel entropy [0.8112781244591328, 0.39124356362925566]\n",
      "Door Info Gain 0.06616759412220852\n",
      "Fuel Info Gain 0.03607380787602271\n"
     ]
    }
   ],
   "source": [
    "ES2=system_ent(df2)\n",
    "ent2_door=entropy(df2['doornumber'],df2['price'])\n",
    "ent2_fuel=entropy(df2['fueltype'],df2['price'])\n",
    "print(\"Door entropy\",ent2_door)\n",
    "print(\"Fuel entropy\",ent2_fuel)\n",
    "door_info2=infogain(ES2,ent2_door,df2['doornumber'])\n",
    "fuel_info2=infogain(ES2,ent2_fuel,df2['fueltype'])\n",
    "print(\"Door Info Gain\",door_info2)\n",
    "print(\"Fuel Info Gain\",fuel_info2)"
   ]
  },
  {
   "cell_type": "code",
   "execution_count": 18,
   "metadata": {
    "scrolled": false
   },
   "outputs": [
    {
     "name": "stdout",
     "output_type": "stream",
     "text": [
      "    fueltype doornumber aspiration price\n",
      "9        gas        two      turbo  high\n",
      "23       gas        two      turbo   low\n",
      "27       gas        two      turbo   low\n",
      "29       gas        two      turbo  high\n",
      "69    diesel        two      turbo  high\n",
      "75       gas        two      turbo  high\n",
      "79       gas        two      turbo   low\n",
      "80       gas        two      turbo   low\n",
      "82       gas        two      turbo  high\n",
      "83       gas        two      turbo  high\n",
      "84       gas        two      turbo  high\n",
      "105      gas        two      turbo  high\n",
      "119      gas        two      turbo   low\n",
      "124      gas        two      turbo  high\n",
      "136      gas        two      turbo  high \n",
      "     fueltype doornumber aspiration price\n",
      "8        gas       four      turbo  high\n",
      "67    diesel       four      turbo  high\n",
      "68    diesel       four      turbo  high\n",
      "70    diesel       four      turbo  high\n",
      "87       gas       four      turbo   low\n",
      "108   diesel       four      turbo  high\n",
      "110   diesel       four      turbo  high\n",
      "112   diesel       four      turbo  high\n",
      "114   diesel       four      turbo  high\n",
      "116   diesel       four      turbo  high\n",
      "117      gas       four      turbo  high\n",
      "137      gas       four      turbo  high\n",
      "145      gas       four      turbo  high\n",
      "149      gas       four      turbo  high\n",
      "174   diesel       four      turbo  high\n",
      "187   diesel       four      turbo   low\n",
      "192   diesel       four      turbo  high\n",
      "198      gas       four      turbo  high\n",
      "199      gas       four      turbo  high\n",
      "201      gas       four      turbo  high\n",
      "203   diesel       four      turbo  high\n",
      "204      gas       four      turbo  high\n"
     ]
    }
   ],
   "source": [
    "df3 = df2[df2['doornumber']=='two']\n",
    "df4 = df2[df2['doornumber']=='four']  \n",
    "print(df3,'\\n',df4)"
   ]
  },
  {
   "cell_type": "code",
   "execution_count": 19,
   "metadata": {},
   "outputs": [
    {
     "name": "stdout",
     "output_type": "stream",
     "text": [
      "System Entropy for dataframe 3 0.9182958340544896\n"
     ]
    }
   ],
   "source": [
    "ES3=system_ent(df3)\n",
    "print(\"System Entropy for dataframe 3\", ES3)"
   ]
  },
  {
   "cell_type": "code",
   "execution_count": 20,
   "metadata": {},
   "outputs": [
    {
     "name": "stdout",
     "output_type": "stream",
     "text": [
      "System Entropy for dataframe 4 0.4394969869215134\n"
     ]
    }
   ],
   "source": [
    "ES3=system_ent(df4)\n",
    "print(\"System Entropy for dataframe 4\", ES3)"
   ]
  },
  {
   "cell_type": "markdown",
   "metadata": {},
   "source": [
    "                    aspiration\n",
    "                   /         \\\n",
    "                  std         turbo\n",
    "               /       \\      /    \\\n",
    "            gas      diesel two    four\n",
    "            /\\         /\\    \\      /\\\n",
    "          low high  low high high low high"
   ]
  }
 ],
 "metadata": {
  "colab": {
   "collapsed_sections": [],
   "name": "Exp7_1924002_EDA.ipynb",
   "provenance": []
  },
  "kernelspec": {
   "display_name": "Python 3",
   "language": "python",
   "name": "python3"
  },
  "language_info": {
   "codemirror_mode": {
    "name": "ipython",
    "version": 3
   },
   "file_extension": ".py",
   "mimetype": "text/x-python",
   "name": "python",
   "nbconvert_exporter": "python",
   "pygments_lexer": "ipython3",
   "version": "3.7.4"
  }
 },
 "nbformat": 4,
 "nbformat_minor": 1
}
