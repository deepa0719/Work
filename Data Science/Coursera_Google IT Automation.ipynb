{
 "cells": [
  {
   "cell_type": "markdown",
   "metadata": {},
   "source": [
    "# Strings"
   ]
  },
  {
   "cell_type": "code",
   "execution_count": 1,
   "metadata": {},
   "outputs": [
    {
     "name": "stdout",
     "output_type": "stream",
     "text": [
      "USB\n",
      "LAN\n",
      "OS\n"
     ]
    }
   ],
   "source": [
    "#initials of words\n",
    "def initials(phrase):\n",
    "    words = phrase.upper().split()\n",
    "    result = \"\"\n",
    "    for word in words:\n",
    "        result += word[0]\n",
    "    return \"\".join(result)\n",
    "\n",
    "print(initials(\"Universal Serial Bus\")) # Should be: USB\n",
    "print(initials(\"local area network\")) # Should be: LAN\n",
    "print(initials(\"Operating system\")) # Should be: OS"
   ]
  },
  {
   "cell_type": "code",
   "execution_count": 2,
   "metadata": {},
   "outputs": [
    {
     "name": "stdout",
     "output_type": "stream",
     "text": [
      "Reed received 80% on the exam\n",
      "Paige received 92% on the exam\n",
      "Jesse received 85% on the exam\n"
     ]
    }
   ],
   "source": [
    "#formatting strings\n",
    "def student_grade(name, grade):\n",
    "    return (\"{} received {}% on the exam\".format(name, grade))\n",
    "# can also be written as return(\"{name} received {grade}% on the exam\".format(name=name,grade=grade))\n",
    "\n",
    "print(student_grade(\"Reed\", 80))\n",
    "print(student_grade(\"Paige\", 92))\n",
    "print(student_grade(\"Jesse\", 85))"
   ]
  },
  {
   "cell_type": "code",
   "execution_count": 7,
   "metadata": {},
   "outputs": [
    {
     "name": "stdout",
     "output_type": "stream",
     "text": [
      "True\n",
      "False\n",
      "True\n"
     ]
    }
   ],
   "source": [
    "#checking palindromes\n",
    "def is_palindrome(input_string):\n",
    "    # We'll create two strings, to compare them\n",
    "    new_string = \"\"\n",
    "    reverse_string = \"\"\n",
    "    # Traverse through each letter of the input string\n",
    "    for i in input_string.strip():\n",
    "        # Add any non-blank letters to the \n",
    "        # end of one string, and to the front\n",
    "        # of the other string. \n",
    "        new_string = new_string+i.replace(\" \",\"\")\n",
    "        reverse_string = i.replace(\" \",\"\")+reverse_string\n",
    "    # Compare the strings\n",
    "    if new_string.lower()==reverse_string.lower():\n",
    "        return True\n",
    "    return False\n",
    "\n",
    "print(is_palindrome(\"Never Odd or Even\")) # Should be True\n",
    "print(is_palindrome(\"abc\")) # Should be False\n",
    "print(is_palindrome(\"kayak\")) # Should be True"
   ]
  },
  {
   "cell_type": "code",
   "execution_count": 4,
   "metadata": {},
   "outputs": [
    {
     "name": "stdout",
     "output_type": "stream",
     "text": [
      "12 miles equals 19.2 km\n",
      "5.5 miles equals 8.8 km\n",
      "11 miles equals 17.6 km\n"
     ]
    }
   ],
   "source": [
    "#convert miles to km\n",
    "def convert_distance(miles):\n",
    "\tkm = miles * 1.6 \n",
    "\tresult = \"{} miles equals {:.1f} km\".format(miles,km)\n",
    "\treturn result\n",
    "\n",
    "print(convert_distance(12)) # Should be: 12 miles equals 19.2 km\n",
    "print(convert_distance(5.5)) # Should be: 5.5 miles equals 8.8 km\n",
    "print(convert_distance(11)) # Should be: 11 miles equals 17.6 km"
   ]
  },
  {
   "cell_type": "code",
   "execution_count": 5,
   "metadata": {},
   "outputs": [
    {
     "name": "stdout",
     "output_type": "stream",
     "text": [
      "Jane S.\n",
      "Francesco R.\n",
      "Jean-Luc G.\n"
     ]
    }
   ],
   "source": [
    "#Use the format method to return first_name and the first initial of last_name followed by a period.\n",
    "def nametag(first_name, last_name):\n",
    "\treturn(\"{} {}.\".format(first_name, last_name[0]))\n",
    "\n",
    "print(nametag(\"Jane\", \"Smith\")) \n",
    "# Should display \"Jane S.\" \n",
    "print(nametag(\"Francesco\", \"Rinaldi\")) \n",
    "# Should display \"Francesco R.\" \n",
    "print(nametag(\"Jean-Luc\", \"Grand-Pierre\")) \n",
    "# Should display \"Jean-Luc G.\" "
   ]
  },
  {
   "cell_type": "code",
   "execution_count": 6,
   "metadata": {},
   "outputs": [
    {
     "name": "stdout",
     "output_type": "stream",
     "text": [
      "It's raining cats and dogs\n",
      "She sells seashells by the seashore\n",
      "The weather is nice in May\n",
      "The weather is nice in April\n"
     ]
    }
   ],
   "source": [
    "#The replace_ending function replaces the old string in a sentence with the new string,\n",
    "#but only if the sentence ends with the old string.If there is more than one occurrence of the old string in the sentence,\n",
    "#only the one at the end is replaced, not all of them.\n",
    "\n",
    "\n",
    "def replace_ending(sentence, old, new):\n",
    "\t# Check if the old string is at the end of the sentence \n",
    "\tif sentence.endswith(old):\n",
    "\t\t# Using i as the slicing index, combine the part\n",
    "\t\t# of the sentence up to the matched string at the \n",
    "\t\t# end with the new string\n",
    "\t\ti = sentence.rindex(old)  #rindex() returns the index of the last occurence of the sunstring in the string.\n",
    "\t\tnew_sentence = sentence[:i]+new\n",
    "\t\treturn new_sentence\n",
    "\n",
    "\t# Return the original sentence if there is no match \n",
    "\treturn sentence\n",
    "\t\n",
    "print(replace_ending(\"It's raining cats and cats\", \"cats\", \"dogs\")) \n",
    "# Should display \"It's raining cats and dogs\"\n",
    "print(replace_ending(\"She sells seashells by the seashore\", \"seashells\", \"donuts\")) \n",
    "# Should display \"She sells seashells by the seashore\"\n",
    "print(replace_ending(\"The weather is nice in May\", \"may\", \"april\")) \n",
    "# Should display \"The weather is nice in May\"\n",
    "print(replace_ending(\"The weather is nice in May\", \"May\", \"April\")) \n",
    "# Should display \"The weather is nice in April\"\n"
   ]
  },
  {
   "cell_type": "markdown",
   "metadata": {},
   "source": [
    "# Lists"
   ]
  },
  {
   "cell_type": "code",
   "execution_count": 8,
   "metadata": {},
   "outputs": [
    {
     "name": "stdout",
     "output_type": "stream",
     "text": [
      "lesson\n",
      "\n",
      "Now\n",
      "\n"
     ]
    }
   ],
   "source": [
    "#Using the \"split\" string method from the preceding lesson, complete the get_word function to return the {n}th word from\n",
    "#a passed sentence.\n",
    "\n",
    "def get_word(sentence, n):\n",
    "\t# Only proceed if n is positive \n",
    "\tif n > 0:\n",
    "\t\twords = sentence.split()\n",
    "\t\t# Only proceed if n is not more than the number of words \n",
    "\t\tif n <= len(words):\n",
    "\t\t\treturn(words[n-1])\n",
    "\treturn(\"\")\n",
    "\n",
    "print(get_word(\"This is a lesson about lists\", 4)) # Should print: lesson\n",
    "print(get_word(\"This is a lesson about lists\", -4)) # Nothing\n",
    "print(get_word(\"Now we are cooking!\", 1)) # Should print: Now\n",
    "print(get_word(\"Now we are cooking!\", 5)) # Nothing"
   ]
  },
  {
   "cell_type": "code",
   "execution_count": 9,
   "metadata": {},
   "outputs": [
    {
     "name": "stdout",
     "output_type": "stream",
     "text": [
      "['a', 'c', 'e', 'g']\n",
      "['Orange', 'Strawberry', 'Peach']\n",
      "[]\n"
     ]
    }
   ],
   "source": [
    "#The skip_elements function returns a list containing every other element from an input list, starting with the first element.\n",
    "#Complete this function to do that, using the for loop to iterate through the input list.\n",
    "\n",
    "def skip_elements(elements):\n",
    "\t# Initialize variables\n",
    "\tnew_list = []\n",
    "\ti = 0\n",
    "\n",
    "\t# Iterate through the list\n",
    "\tfor x in range(len(elements)):\n",
    "\t\t# Does this element belong in the resulting list?\n",
    "\t\tif x%2==0:\n",
    "\t\t\t# Add this element to the resulting list\n",
    "\t\t\tnew_list.append(elements[x])\n",
    "\t\t# Increment i\n",
    "\t\ti+=1\n",
    "\n",
    "\treturn new_list\n",
    "\n",
    "print(skip_elements([\"a\", \"b\", \"c\", \"d\", \"e\", \"f\", \"g\"])) # Should be ['a', 'c', 'e', 'g']\n",
    "print(skip_elements(['Orange', 'Pineapple', 'Strawberry', 'Kiwi', 'Peach'])) # Should be ['Orange', 'Strawberry', 'Peach']\n",
    "print(skip_elements([])) # Should be []\n",
    "\n",
    "\n"
   ]
  },
  {
   "cell_type": "markdown",
   "metadata": {},
   "source": [
    "# Tuples "
   ]
  },
  {
   "cell_type": "code",
   "execution_count": 1,
   "metadata": {},
   "outputs": [
    {
     "name": "stdout",
     "output_type": "stream",
     "text": [
      "17.46\n",
      "0.48\n",
      "1.21\n"
     ]
    }
   ],
   "source": [
    "#use tuples to store information about a file: its name, its type and its size in bytes.\n",
    "#Fill in the gaps in this code to return the size in kilobytes (a kilobyte is 1024 bytes) up to 2 decimal places.\n",
    "def file_size(file_info):\n",
    "\tname, typee, size= file_info\n",
    "\treturn(\"{:.2f}\".format(size / 1024))\n",
    "\n",
    "print(file_size(('Class Assignment', 'docx', 17875))) # Should print 17.46\n",
    "print(file_size(('Notes', 'txt', 496))) # Should print 0.48\n",
    "print(file_size(('Program', 'py', 1239))) # Should print 1.21"
   ]
  },
  {
   "cell_type": "code",
   "execution_count": 2,
   "metadata": {},
   "outputs": [
    {
     "name": "stdout",
     "output_type": "stream",
     "text": [
      "['a', 'c', 'e', 'g']\n",
      "['Orange', 'Strawberry', 'Peach']\n"
     ]
    }
   ],
   "source": [
    "#Complete the skip_elements function to return every other element from the list, this time using the enumerate function\n",
    "#to check if an element is on an even position or an odd position.\n",
    "\n",
    "def skip_elements(elements):\n",
    "\t# code goes here\n",
    "\tresult=[]\n",
    "\tfor index,element in enumerate(elements):\n",
    "\t\tif index%2==0:\n",
    "\t\t\tresult.append(element)\n",
    "\treturn result\n",
    "\n",
    "print(skip_elements([\"a\", \"b\", \"c\", \"d\", \"e\", \"f\", \"g\"])) # Should be ['a', 'c', 'e', 'g']\n",
    "print(skip_elements(['Orange', 'Pineapple', 'Strawberry', 'Kiwi', 'Peach'])) # Should be ['Orange', 'Strawberry', 'Peach']"
   ]
  },
  {
   "cell_type": "code",
   "execution_count": 11,
   "metadata": {},
   "outputs": [
    {
     "name": "stdout",
     "output_type": "stream",
     "text": [
      "Ken is 30 years old and works as Chef\n",
      "Pat is 35 years old and works as Lawyer\n",
      "Amanda is 25 years old and works as Engineer\n"
     ]
    }
   ],
   "source": [
    "#The guest_list function reads in a list of tuples with the name, age, and profession of each party guest, and prints the \n",
    "#sentence \"Guest is X years old and works as __.\" for each one.For example,\n",
    "#guest_list(('Ken', 30, \"Chef\"), (\"Pat\", 35, 'Lawyer'), ('Amanda', 25, \"Engineer\")) should print out: \n",
    "#Ken is 30 years old and works as Chef. \n",
    "#Pat is 35 years old and works as Lawyer. \n",
    "#Amanda is 25 years old and works as Engineer. Fill in the gaps in this function to do that.\n",
    "\n",
    "def guest_list(guests):\n",
    "\tfor i,val in enumerate(guests):\n",
    "\t\tname = val[0]\n",
    "\t\tage = val[1]\n",
    "\t\tprof = val[2]\n",
    "\t\tprint(\"{} is {} years old and works as {}\".format(name,age,prof))\n",
    "\n",
    "guest_list([('Ken', 30, \"Chef\"), (\"Pat\", 35, 'Lawyer'), ('Amanda', 25, \"Engineer\")])\n",
    "\n",
    "#Click Run to submit code\n",
    "#\"\"\"\n",
    "#Output should match:\n",
    "#Ken is 30 years old and works as Chef\n",
    "#Pat is 35 years old and works as Lawyer\n",
    "#Amanda is 25 years old and works as Engineer\n",
    "#\"\"\""
   ]
  },
  {
   "cell_type": "code",
   "execution_count": 7,
   "metadata": {},
   "outputs": [],
   "source": [
    "def emailname(info):\n",
    "    result=[]\n",
    "    for email, name in info:\n",
    "        result.append(\"{} <{}>\".format(name,email))\n",
    "    return result"
   ]
  },
  {
   "cell_type": "code",
   "execution_count": 8,
   "metadata": {},
   "outputs": [
    {
     "name": "stdout",
     "output_type": "stream",
     "text": [
      "['Deepa <dk@7.com>', 'Alyssa Markovich <alysamark@25.com>']\n"
     ]
    }
   ],
   "source": [
    "print(emailname([(\"dk@7.com\",\"Deepa\"),(\"alysamark@25.com\", \"Alyssa Markovich\")]))"
   ]
  },
  {
   "cell_type": "markdown",
   "metadata": {},
   "source": [
    "#  List Comprehension"
   ]
  },
  {
   "cell_type": "code",
   "execution_count": 2,
   "metadata": {},
   "outputs": [
    {
     "name": "stdout",
     "output_type": "stream",
     "text": [
      "[1, 3, 5]\n",
      "[1, 3, 5, 7, 9]\n",
      "[1, 3, 5, 7, 9, 11]\n",
      "[1]\n",
      "[]\n"
     ]
    }
   ],
   "source": [
    "#odd numbers between 1 and n (n inclusive)\n",
    "def odd_numbers(n):\n",
    "\treturn [x for x in range(1,n+1) if (x%2!=0)]\n",
    "\n",
    "print(odd_numbers(5))  # Should print [1, 3, 5]\n",
    "print(odd_numbers(10)) # Should print [1, 3, 5, 7, 9]\n",
    "print(odd_numbers(11)) # Should print [1, 3, 5, 7, 9, 11]\n",
    "print(odd_numbers(1))  # Should print [1]\n",
    "print(odd_numbers(-1)) # Should print []"
   ]
  },
  {
   "cell_type": "code",
   "execution_count": 4,
   "metadata": {},
   "outputs": [
    {
     "name": "stdout",
     "output_type": "stream",
     "text": [
      "['program.c', 'stdio.h', 'sample.h', 'a.out', 'math.h', 'hpp.out']\n"
     ]
    }
   ],
   "source": [
    "#Given a list of filenames, we want to rename all the files with extension hpp to the extension h. \n",
    "#To do this, we would like to generate a new list called newfilenames, consisting of the new filenames.\n",
    "#Fill in the blanks in the code using any of the methods you’ve learned thus far, like a for loop or a list comprehension.\n",
    "\n",
    "filenames = [\"program.c\", \"stdio.hpp\", \"sample.hpp\", \"a.out\", \"math.hpp\", \"hpp.out\"]\n",
    "# Generate newfilenames as a list containing the new filenames\n",
    "# using as many lines of code as your chosen method requires.\n",
    "newfilenames = [filename.replace(\".hpp\",\".h\") for filename in filenames] \n",
    "\n",
    "print(newfilenames) \n",
    "# Should be [\"program.c\", \"stdio.h\", \"sample.h\", \"a.out\", \"math.h\", \"hpp.out\"]"
   ]
  },
  {
   "cell_type": "code",
   "execution_count": 5,
   "metadata": {},
   "outputs": [
    {
     "name": "stdout",
     "output_type": "stream",
     "text": [
      "ellohay owhay reaay ouyay\n",
      "rogrammingpay niay ythonpay siay unfay\n"
     ]
    }
   ],
   "source": [
    "#Let's create a function that turns text into pig latin: a simple text transformation that modifies each word \n",
    "#moving the first character to the end and appending \"ay\" to the end. For example, python ends up as ythonpay.\n",
    "\n",
    "def pig_latin(text):\n",
    "  say = []\n",
    "  # Separate the text into words\n",
    "  words = text.split(\" \")\n",
    "  for word in words:\n",
    "    # Create the pig latin word and add it to the list\n",
    "    say.append(word[1:]+word[0]+\"ay\")\n",
    "    # Turn the list back into a phrase\n",
    "  return \" \".join(say)\n",
    "\t\t\n",
    "print(pig_latin(\"hello how are you\")) # Should be \"ellohay owhay reaay ouyay\"\n",
    "print(pig_latin(\"programming in python is fun\")) # Should be \"rogrammingpay niay ythonpay siay unfay\""
   ]
  },
  {
   "cell_type": "code",
   "execution_count": 8,
   "metadata": {},
   "outputs": [
    {
     "name": "stdout",
     "output_type": "stream",
     "text": [
      "rwxr-xr-x\n",
      "rw-r--r--\n",
      "rwxr-x---\n",
      "rw-------\n"
     ]
    }
   ],
   "source": [
    "#The permissions of a file in a Linux system are split into three sets of three permissions: read, write, and execute \n",
    "#for the owner, group, and others. Each of the three values can be expressed as an octal number summing each permission,\n",
    "#with 4 corresponding to read, 2 to write, and 1 to execute.\n",
    "#Or it can be written with a string using the letters r, w, and x or - when the permission is not granted. \n",
    "#For example: 640 is read/write for the owner, read for the group, and no permissions for the others; \n",
    "#converted to a string, it would be: \"rw-r-----\" 755 is read/write/execute for the owner, and read/execute for group and others;\n",
    "#converted to a string, it would be: \"rwxr-xr-x\" Fill in the blanks to make the code convert a permission in octal format into \n",
    "#a string format.\n",
    "\n",
    "def octal_to_string(octal):\n",
    "    result = \"\"\n",
    "    value_letters = [(4,\"r\"),(2,\"w\"),(1,\"x\")]\n",
    "    # Iterate over each of the digits in octal\n",
    "    for n in [int(n) for n in str(octal)]:\n",
    "        # Check for each of the permissions values\n",
    "        for value, letter in value_letters:\n",
    "            if n >= value:\n",
    "                result += letter\n",
    "                n -= value\n",
    "            else:\n",
    "                result+= '-'\n",
    "    return result\n",
    "    \n",
    "print(octal_to_string(755)) # Should be rwxr-xr-x\n",
    "print(octal_to_string(644)) # Should be rw-r--r--\n",
    "print(octal_to_string(750)) # Should be rwxr-x---\n",
    "print(octal_to_string(600)) # Should be rw-------"
   ]
  },
  {
   "cell_type": "code",
   "execution_count": 9,
   "metadata": {},
   "outputs": [
    {
     "name": "stdout",
     "output_type": "stream",
     "text": [
      "Marketing: Mike, Karen, Jake, Tasha\n",
      "Engineering: Kim, Jay, Tom\n",
      "Users: \n"
     ]
    }
   ],
   "source": [
    "#The group_list function accepts a group name and a list of members, and returns a string with the format:\n",
    "#group_name: member1, member2, … For example, group_list(\"g\", [\"a\",\"b\",\"c\"]) returns \"g: a, b, c\".\n",
    "#Fill in the gaps in this function to do that.\n",
    "\n",
    "def group_list(group, users):\n",
    "  a=[]\n",
    "  for i in users:\n",
    "    a.append(i)\n",
    "  return group+\": \"+\", \".join(a)\n",
    "\n",
    "print(group_list(\"Marketing\", [\"Mike\", \"Karen\", \"Jake\", \"Tasha\"])) # Should be \"Marketing: Mike, Karen, Jake, Tasha\"\n",
    "print(group_list(\"Engineering\", [\"Kim\", \"Jay\", \"Tom\"])) # Should be \"Engineering: Kim, Jay, Tom\"\n",
    "print(group_list(\"Users\", \"\")) # Should be \"Users:\""
   ]
  },
  {
   "cell_type": "markdown",
   "metadata": {},
   "source": [
    "#  Dictionaries"
   ]
  },
  {
   "cell_type": "code",
   "execution_count": 14,
   "metadata": {},
   "outputs": [
    {
     "name": "stdout",
     "output_type": "stream",
     "text": [
      "{'Introduction': 1, 'Chapter 1': 4, 'Chapter 2': 11, 'Chapter 3': 24, 'Chapter 4': 30, 'Epilogue': 39}\n"
     ]
    },
    {
     "data": {
      "text/plain": [
       "False"
      ]
     },
     "execution_count": 14,
     "metadata": {},
     "output_type": "execute_result"
    }
   ],
   "source": [
    "#The \"toc\" dictionary represents the table of contents for a book. Fill in the blanks to do the following:\n",
    "#1) Add an entry for Epilogue on page 39. 2) Change the page number for Chapter 3 to 24.\n",
    "#3) Display the new dictionary contents. 4) Display True if there is Chapter 5, False if there isn't.\n",
    "\n",
    "toc = {\"Introduction\":1, \"Chapter 1\":4, \"Chapter 2\":11, \"Chapter 3\":25, \"Chapter 4\":30}\n",
    "toc[\"Epilogue\"]=39 # Epilogue starts on page 39\n",
    "toc[\"Chapter 3\"]=24 # Chapter 3 now starts on page 24\n",
    "print(toc) # What are the current contents of the dictionary?\n",
    "\"Chapter 5\" in toc\n",
    " # Is there a Chapter 5?"
   ]
  },
  {
   "cell_type": "code",
   "execution_count": 15,
   "metadata": {},
   "outputs": [
    {
     "name": "stdout",
     "output_type": "stream",
     "text": [
      "octopuses have tentacles\n",
      "dolphins have fins\n",
      "rhinos have horns\n"
     ]
    }
   ],
   "source": [
    "#Complete the code to iterate through the keys and values of the cool_beasts dictionary. \n",
    "#Remember that the items method returns a tuple of key, value for each element in the dictionary.\n",
    "\n",
    "cool_beasts = {\"octopuses\":\"tentacles\", \"dolphins\":\"fins\", \"rhinos\":\"horns\"}\n",
    "for animal,part in cool_beasts.items():\n",
    "    print(\"{} have {}\".format(animal,part))"
   ]
  },
  {
   "cell_type": "code",
   "execution_count": 17,
   "metadata": {},
   "outputs": [
    {
     "name": "stdout",
     "output_type": "stream",
     "text": [
      "{'H': 1, 'e': 2, 'y': 2, ' ': 6, 'm': 2, 'n': 2, 'a': 2, 'i': 1, 's': 3, 'o': 2, 'd': 1}\n"
     ]
    }
   ],
   "source": [
    "#count number of occurrences\n",
    "def count_letters(text):\n",
    "    result = {}\n",
    "    for letter in text:\n",
    "        if letter not in result:\n",
    "            result[letter] = 0\n",
    "        result[letter]+=1\n",
    "    return result\n",
    "\n",
    "print(count_letters(\"Hey my name is so and so\"))"
   ]
  },
  {
   "cell_type": "code",
   "execution_count": 18,
   "metadata": {},
   "outputs": [
    {
     "name": "stdout",
     "output_type": "stream",
     "text": [
      "red shirt\n",
      "blue shirt\n",
      "white shirt\n",
      "blue jeans\n",
      "black jeans\n"
     ]
    }
   ],
   "source": [
    "#In Python, a dictionary can only hold a single value for a given key. To workaround this, our single value can be a list \n",
    "#containing multiple values. Here we have a dictionary called \"wardrobe\" with items of clothing and their colors. \n",
    "#Fill in the blanks to print a line for each item of clothing with each color, for example: \n",
    "#\"red shirt\", \"blue shirt\", and so on.\n",
    "\n",
    "wardrobe = {\"shirt\":[\"red\",\"blue\",\"white\"], \"jeans\":[\"blue\",\"black\"]}\n",
    "for wear,color in wardrobe.items():\n",
    "\tfor col in color:\n",
    "\t\tprint(\"{} {}\".format(col,wear))"
   ]
  },
  {
   "cell_type": "markdown",
   "metadata": {},
   "source": [
    "#### Some cheatsheet codes\n",
    "dict.get(key, default) - Returns the element corresponding to key, or default if it's not present\n",
    "\n",
    "dict.keys() - Returns a sequence containing the keys in the dictionary\n",
    "\n",
    "dict.values() - Returns a sequence containing the values in the dictionary\n",
    "\n",
    "dict.update(other_dictionary) - Updates the dictionary with the items coming from the other dictionary. Existing entries will be replaced; new entries will be added.\n",
    "\n",
    "dict.clear() - Removes all the items of the dictionary"
   ]
  },
  {
   "cell_type": "code",
   "execution_count": 20,
   "metadata": {},
   "outputs": [
    {
     "name": "stdout",
     "output_type": "stream",
     "text": [
      "['clark.kent@gmail.com', 'diana.prince@gmail.com', 'peter.parker@gmail.com', 'barbara.gordon@yahoo.com', 'jean.grey@yahoo.com', 'bruce.wayne@hotmail.com']\n"
     ]
    }
   ],
   "source": [
    "#The email_list function receives a dictionary, which contains domain names as keys, and a list of users as values. \n",
    "#Fill in the blanks to generate a list that contains complete email addresses (e.g. diana.prince@gmail.com).\n",
    "\n",
    "def email_list(domains):\n",
    "\temails = []\n",
    "\tfor dom,users in domains.items():\n",
    "\t  for user in users:\n",
    "\t    emails.append(user+\"@\"+dom)\n",
    "\treturn(emails)\n",
    "\n",
    "print(email_list({\"gmail.com\": [\"clark.kent\", \"diana.prince\", \"peter.parker\"], \"yahoo.com\": [\"barbara.gordon\", \"jean.grey\"], \"hotmail.com\": [\"bruce.wayne\"]}))"
   ]
  },
  {
   "cell_type": "code",
   "execution_count": 21,
   "metadata": {},
   "outputs": [
    {
     "name": "stdout",
     "output_type": "stream",
     "text": [
      "{'admin': ['local', 'public', 'administrator'], 'userA': ['local'], 'userB': ['public']}\n"
     ]
    }
   ],
   "source": [
    "#The groups_per_user function receives a dictionary, which contains group names with the list of users.\n",
    "#Users can belong to multiple groups. Fill in the blanks to return a dictionary with the users as keys and a list of their\n",
    "#groups as values.\n",
    "\n",
    "def groups_per_user(group_dictionary):\n",
    "\tuser_groups = {}\n",
    "\t# Go through group_dictionary\n",
    "\tfor group,users in group_dictionary.items():\n",
    "\t\t# Now go through the users in the group\n",
    "\t\tfor user in users:\n",
    "\t\t\t# Now add the group to the the list of\n",
    "\t\t\t# groups for this user, creating the entry\n",
    "\t\t\t# in the dictionary if necessary\n",
    "\t\t\tuser_groups.setdefault(user, []).append(group)\n",
    "\n",
    "\treturn(user_groups)\n",
    "\n",
    "print(groups_per_user({\"local\": [\"admin\", \"userA\"],\n",
    "\t\t\"public\":  [\"admin\", \"userB\"],\n",
    "\t\t\"administrator\": [\"admin\"] }))"
   ]
  },
  {
   "cell_type": "code",
   "execution_count": 22,
   "metadata": {},
   "outputs": [
    {
     "name": "stdout",
     "output_type": "stream",
     "text": [
      "28.44\n"
     ]
    }
   ],
   "source": [
    "#The add_prices function returns the total price of all of the groceries in the dictionary.\n",
    "#Fill in the blanks to complete this function.\n",
    "\n",
    "def add_prices(basket):\n",
    "\t# Initialize the variable that will be used for the calculation\n",
    "\ttotal = 0\n",
    "\t# Iterate through the dictionary items\n",
    "\tfor item, cost in basket.items():\n",
    "\t\t# Add each price to the total calculation\n",
    "\t\t# Hint: how do you access the values of\n",
    "\t\t# dictionary items?\n",
    "\t\ttotal += cost\n",
    "\t# Limit the return value to 2 decimal places\n",
    "\treturn round(total, 2)  \n",
    "\n",
    "groceries = {\"bananas\": 1.56, \"apples\": 2.50, \"oranges\": 0.99, \"bread\": 4.59, \n",
    "\t\"coffee\": 6.99, \"milk\": 3.39, \"eggs\": 2.98, \"cheese\": 5.44}\n",
    "\n",
    "print(add_prices(groceries)) # Should print 28.44\n"
   ]
  },
  {
   "cell_type": "code",
   "execution_count": 23,
   "metadata": {},
   "outputs": [
    {
     "name": "stdout",
     "output_type": "stream",
     "text": [
      "house number 123 on street named Main Street \n",
      "house number 1001 on street named 1st Ave \n",
      "house number 55 on street named North Center Drive \n"
     ]
    }
   ],
   "source": [
    "#The format_address function separates out parts of the address string into new strings: house_number and street_name,\n",
    "#and returns: \"house number X on street named Y\". The format of the input string is: numeric house number, followed by\n",
    "#the street name which may contain numbers, but never by themselves, and could be several words long. \n",
    "#For example, \"123 Main Street\", \"1001 1st Ave\", or \"55 North Center Drive\". Fill in the gaps to complete this function.\n",
    "\n",
    "def format_address(address_string):\n",
    "  # Declare variables\n",
    "    house_num = 0\n",
    "    street_name = \"\"\n",
    "  # Separate the address string into parts\n",
    "    a = address_string.split()\n",
    "  # Traverse through the address parts\n",
    "    for i in a:\n",
    "      if i.isnumeric():\n",
    "        house_num = i\n",
    "      else:\n",
    "        street_name += i+\" \"\n",
    "    # Determine if the address part is the\n",
    "    # house number or part of the street name\n",
    "  # Does anything else need to be done \n",
    "  # before returning the result?\n",
    "  \n",
    "  # Return the formatted string  \n",
    "    return \"house number {} on street named {}\".format(house_num,street_name)\n",
    "\n",
    "print(format_address(\"123 Main Street\"))\n",
    "# Should print: \"house number 123 on street named Main Street\"\n",
    "\n",
    "print(format_address(\"1001 1st Ave\"))\n",
    "# Should print: \"house number 1001 on street named 1st Ave\"\n",
    "\n",
    "print(format_address(\"55 North Center Drive\"))\n",
    "# Should print \"house number 55 on street named North Center Drive\"\n"
   ]
  },
  {
   "cell_type": "code",
   "execution_count": 24,
   "metadata": {},
   "outputs": [
    {
     "name": "stdout",
     "output_type": "stream",
     "text": [
      "Have a NICE day\n",
      "Shhh, don't be so LOUD!\n",
      "Automating with Python is FUN\n"
     ]
    }
   ],
   "source": [
    "#The highlight_word function changes the given word in a sentence to its upper-case version.\n",
    "#For example, highlight_word(\"Have a nice day\", \"nice\") returns \"Have a NICE day\". Can you write this function in just one line?\n",
    "\n",
    "def highlight_word(sentence, word):\n",
    "\treturn(sentence.replace(word,word.upper()))\n",
    "\n",
    "print(highlight_word(\"Have a nice day\", \"nice\"))\n",
    "print(highlight_word(\"Shhh, don't be so loud!\", \"loud\"))\n",
    "print(highlight_word(\"Automating with Python is fun\", \"fun\"))\n"
   ]
  },
  {
   "cell_type": "code",
   "execution_count": 25,
   "metadata": {},
   "outputs": [
    {
     "name": "stdout",
     "output_type": "stream",
     "text": [
      "['Mike', 'Carol', 'Greg', 'Marcia', 'Peter', 'Jan', 'Bobby', 'Cindy', 'Alice']\n"
     ]
    }
   ],
   "source": [
    "#A professor with two assistants, Jamie and Drew, wants an attendance list of the students, in the order that they arrived in\n",
    "#the classroom. Drew was the first one to note which students arrived, and then Jamie took over.\n",
    "#After the class, they each entered their lists into the computer and emailed them to the professor, who needs to combine them\n",
    "#into one, in the order of each student's arrival. Jamie emailed a follow-up, saying that her list is in reverse order.\n",
    "#Complete the steps to combine them into one list as follows: the contents of Drew's list, followed by Jamie's list in \n",
    "#reverse order, to get an accurate list of the students as they arrived.\n",
    "\n",
    "def combine_lists(list1, list2):\n",
    "  # Generate a new list containing the elements of list2\n",
    "  # Followed by the elements of list1 in reverse order\n",
    "  list1.reverse()\n",
    "  list2=list2+list1\n",
    "  return list2\n",
    "  \n",
    "\t\n",
    "Jamies_list = [\"Alice\", \"Cindy\", \"Bobby\", \"Jan\", \"Peter\"]\n",
    "Drews_list = [\"Mike\", \"Carol\", \"Greg\", \"Marcia\"]\n",
    "\n",
    "print(combine_lists(Jamies_list, Drews_list))\n"
   ]
  },
  {
   "cell_type": "code",
   "execution_count": 26,
   "metadata": {},
   "outputs": [
    {
     "name": "stdout",
     "output_type": "stream",
     "text": [
      "[4, 9]\n",
      "[1, 4, 9, 16, 25]\n",
      "[0, 1, 4, 9, 16, 25, 36, 49, 64, 81, 100]\n"
     ]
    }
   ],
   "source": [
    "#Use a list comprehension to create a list of squared numbers (n*n). The function receives the variables start and end, \n",
    "#and returns a list of squares of consecutive numbers between start and end inclusively. \n",
    "#For example, squares(2, 3) should return [4, 9].\n",
    "\n",
    "def squares(start, end):\n",
    "\tsum=[]\n",
    "\tfor i in range(start,end+1,1):\n",
    "\t\tsum.append(i**2)\n",
    "\treturn sum\n",
    "\n",
    "print(squares(2, 3)) # Should be [4, 9]\n",
    "print(squares(1, 5)) # Should be [1, 4, 9, 16, 25]\n",
    "print(squares(0, 10)) # Should be [0, 1, 4, 9, 16, 25, 36, 49, 64, 81, 100]"
   ]
  },
  {
   "cell_type": "code",
   "execution_count": 27,
   "metadata": {},
   "outputs": [
    {
     "name": "stdout",
     "output_type": "stream",
     "text": [
      "{'Adam': 2, 'Brenda': 3, 'David': 1, 'Jose': 3, 'Charlotte': 2, 'Terry': 1, 'Robert': 4, 'Nancy': 1, 'Samantha': 3, 'Chris': 5}\n"
     ]
    }
   ],
   "source": [
    "#Taylor and Rory are hosting a party. They sent out invitations, and each one collected responses into dictionaries, \n",
    "#with names of their friends and how many guests each friend is bringing. Each dictionary is a partial list, \n",
    "#but Rory's list has more current information about the number of guests. Fill in the blanks to combine both dictionaries\n",
    "#into one, with each friend listed only once, and the number of guests from Rory's dictionary taking precedence,\n",
    "#if a name is included in both dictionaries. Then print the resulting dictionary.\n",
    "\n",
    "def combine_guests(guests1, guests2):\n",
    "  # Combine both dictionaries into one, with each key listed \n",
    "  # only once, and the value from guests1 taking precedence\n",
    "  for names,count in guests2.items():\n",
    "      if names not in guests1:\n",
    "        guests1[names]=count\n",
    "  return guests1\n",
    "\n",
    "Rorys_guests = { \"Adam\":2, \"Brenda\":3, \"David\":1, \"Jose\":3, \"Charlotte\":2, \"Terry\":1, \"Robert\":4}\n",
    "Taylors_guests = { \"David\":4, \"Nancy\":1, \"Robert\":2, \"Adam\":1, \"Samantha\":3, \"Chris\":5}\n",
    "\n",
    "print(combine_guests(Rorys_guests, Taylors_guests))\n"
   ]
  },
  {
   "cell_type": "code",
   "execution_count": 28,
   "metadata": {},
   "outputs": [
    {
     "name": "stdout",
     "output_type": "stream",
     "text": [
      "{'a': 2, 'b': 2, 'c': 2}\n",
      "{'m': 1, 'a': 1, 't': 1, 'h': 1, 'i': 1, 's': 1, 'f': 1, 'u': 1, 'n': 1}\n",
      "{'t': 2, 'h': 1, 'i': 2, 's': 3, 'a': 1, 'e': 3, 'n': 2, 'c': 1}\n"
     ]
    }
   ],
   "source": [
    "def count_letters(text):\n",
    "  result = {}\n",
    "  text = text.lower().replace(\" \",\"\")\n",
    "  text = \"\".join(c for c in text if c.isalpha())  #remove all the non-alphabetic input from the string\n",
    "  # Go through each letter in the text\n",
    "  for letter in text:\n",
    "    # Check if the letter needs to be counted or not\n",
    "    if letter not in result:\n",
    "      result[letter]=0\n",
    "    # Add or increment the value in the dictionary\n",
    "    result[letter]+=1\n",
    "  return result\n",
    "\n",
    "print(count_letters(\"AaBbCc\"))\n",
    "# Should be {'a': 2, 'b': 2, 'c': 2}\n",
    "\n",
    "print(count_letters(\"Math is fun! 2+2=4\"))\n",
    "# Should be {'m': 1, 'a': 1, 't': 1, 'h': 1, 'i': 1, 's': 1, 'f': 1, 'u': 1, 'n': 1}\n",
    "\n",
    "print(count_letters(\"This is a sentence.\"))\n",
    "# Should be {'t': 2, 'h': 1, 'i': 2, 's': 3, 'a': 1, 'e': 3, 'n': 2, 'c': 1}"
   ]
  },
  {
   "cell_type": "markdown",
   "metadata": {},
   "source": [
    "# Classes\n"
   ]
  },
  {
   "cell_type": "code",
   "execution_count": 2,
   "metadata": {},
   "outputs": [
    {
     "name": "stdout",
     "output_type": "stream",
     "text": [
      "Roses are red,\n",
      "violets are blue,\n",
      "Climate’s important to both me & you.\n"
     ]
    }
   ],
   "source": [
    "#Want to give this a go? Fill in the blanks in the code to make it print a poem.\n",
    "class Flower:\n",
    "  color = 'unknown'\n",
    "\n",
    "rose = Flower()\n",
    "rose.color = 'red'\n",
    "\n",
    "violet = Flower()\n",
    "violet.color = 'blue'\n",
    "\n",
    "this_pun_is_for_you = \"Climate’s important to both me & you.\"\n",
    "\n",
    "print(\"Roses are {},\".format(rose.color))\n",
    "print(\"violets are {},\".format(violet.color))\n",
    "print(this_pun_is_for_you) "
   ]
  },
  {
   "cell_type": "code",
   "execution_count": 4,
   "metadata": {},
   "outputs": [
    {
     "name": "stdout",
     "output_type": "stream",
     "text": [
      "Johanna has 2 apples and Martin has 1 apples\n",
      "Johanna has 2 ideas and Martin has 2 ideas\n"
     ]
    }
   ],
   "source": [
    "#The following code illustrates a famous quote by George Bernard Shaw, using objects to represent people. \n",
    "#Fill in the blanks to make the code satisfy the behavior described in the quote.\n",
    "\n",
    "\n",
    "\n",
    "\n",
    "# “If you have an apple and I have an apple and we exchange these apples then\n",
    "# you and I will still each have one apple. But if you have an idea and I have\n",
    "# an idea and we exchange these ideas, then each of us will have two ideas.”\n",
    "# George Bernard Shaw\n",
    "\n",
    "class Person:\n",
    "    apples = 0\n",
    "    ideas = 0\n",
    "\n",
    "johanna = Person()\n",
    "johanna.apples = 1\n",
    "johanna.ideas = 1\n",
    "\n",
    "martin = Person()\n",
    "martin.apples = 2\n",
    "martin.ideas = 1\n",
    "\n",
    "def exchange_apples(you, me): \n",
    "    x = you.apples\n",
    "    you.apples = me.apples\n",
    "    me.apples = x\n",
    "    return you.apples, me.apples\n",
    "    \n",
    "def exchange_ideas(you, me):\n",
    "    you.ideas +=me.ideas\n",
    "    me.ideas =you.ideas\n",
    "    return you.ideas, me.ideas\n",
    "\n",
    "exchange_apples(johanna, martin)\n",
    "print(\"Johanna has {} apples and Martin has {} apples\".format(johanna.apples, martin.apples))\n",
    "exchange_ideas(johanna, martin)\n",
    "print(\"Johanna has {} ideas and Martin has {} ideas\".format(johanna.ideas, martin.ideas))"
   ]
  },
  {
   "cell_type": "code",
   "execution_count": 5,
   "metadata": {},
   "outputs": [
    {
     "name": "stdout",
     "output_type": "stream",
     "text": [
      "Cusco, Peru\n",
      "Sofia, Bulgaria\n",
      "\n"
     ]
    }
   ],
   "source": [
    "#The City class has the following attributes: name, country (where the city is located), elevation (measured in meters), \n",
    "#and population (approximate, according to recent statistics). Fill in the blanks of the max_elevation_city function to\n",
    "#return the name of the city and its country (separated by a comma), when comparing the 3 defined instances for a specified \n",
    "#minimal population. For example, calling the function for a minimum population of 1 million: max_elevation_city(1000000) \n",
    "#should return \"Sofia, Bulgaria\".\n",
    "\n",
    "\n",
    "\n",
    "# define a basic city class\n",
    "class City:\n",
    "\tname = \"\"\n",
    "\tcountry = \"\"\n",
    "\televation = 0 \n",
    "\tpopulation = 0\n",
    "\n",
    "# create a new instance of the City class and\n",
    "# define each attribute\n",
    "city1 = City()\n",
    "city1.name = \"Cusco\"\n",
    "city1.country = \"Peru\"\n",
    "city1.elevation = 3399\n",
    "city1.population = 358052\n",
    "\n",
    "# create a new instance of the City class and\n",
    "# define each attribute\n",
    "city2 = City()\n",
    "city2.name = \"Sofia\"\n",
    "city2.country = \"Bulgaria\"\n",
    "city2.elevation = 2290\n",
    "city2.population = 1241675\n",
    "\n",
    "# create a new instance of the City class and\n",
    "# define each attribute\n",
    "city3 = City()\n",
    "city3.name = \"Seoul\"\n",
    "city3.country = \"South Korea\"\n",
    "city3.elevation = 38\n",
    "city3.population = 9733509\n",
    "\n",
    "def max_elevation_city(min_population):\n",
    "\t# Initialize the variable that will hold \n",
    "# the information of the city with \n",
    "# the highest elevation \n",
    "  highest_elevation=0\n",
    "  return_city =\"\"\n",
    "\n",
    "\t# Evaluate the 1st instance to meet the requirements:\n",
    "\t# does city #1 have at least min_population and\n",
    "\t# is its elevation the highest evaluated so far?\n",
    "  if (city1.population>min_population):\n",
    "      if(highest_elevation<city1.elevation):\n",
    "          highest_elevation=city1.elevation\n",
    "          return_city = (\"{}, {}\".format(city1.name,city1.country))\n",
    "\t# Evaluate the 2nd instance to meet the requirements:\n",
    "\t# does city #2 have at least min_population and\n",
    "\t# is its elevation the highest evaluated so far?\n",
    "  if(city2.population>min_population):\n",
    "      if (highest_elevation<city2.elevation):\n",
    "          highest_elevation=city2.elevation\n",
    "          return_city = (\"{}, {}\".format(city2.name,city2.country))\n",
    "\t# Evaluate the 3rd instance to meet the requirements:\n",
    "\t# does city #3 have at least min_population and\n",
    "\t# is its elevation the highest evaluated so far?\n",
    "  if(city3.population>min_population):\n",
    "      if (highest_elevation<city3.elevation):\n",
    "          highest_elevation=city3.elevation\n",
    "          return_city = (\"{}, {}\".format(city3.name,city3.country))\n",
    "\n",
    "\t#Format the return string\n",
    "  if return_city!=\"\":\n",
    "      return return_city\n",
    "  else:\n",
    "      return \"\"\n",
    "\n",
    "print(max_elevation_city(100000)) # Should print \"Cusco, Peru\"\n",
    "print(max_elevation_city(1000000)) # Should print \"Sofia, Bulgaria\"\n",
    "print(max_elevation_city(10000000)) # Should print \"\""
   ]
  },
  {
   "cell_type": "code",
   "execution_count": 6,
   "metadata": {},
   "outputs": [
    {
     "name": "stdout",
     "output_type": "stream",
     "text": [
      "This piece of furniture is made of brown wood\n",
      "This piece of furniture is made of red leather\n"
     ]
    }
   ],
   "source": [
    "class Furniture:\n",
    "\tcolor = \"\"\n",
    "\tmaterial = \"\"\n",
    "\n",
    "table = Furniture()\n",
    "table.color=\"brown\"\n",
    "table.material=\"wood\"\n",
    "\n",
    "couch = Furniture()\n",
    "couch.color=\"red\"\n",
    "couch.material=\"leather\"\n",
    "\n",
    "def describe_furniture(piece):\n",
    "\treturn (\"This piece of furniture is made of {} {}\".format(piece.color, piece.material))\n",
    "\n",
    "print(describe_furniture(table)) \n",
    "# Should be \"This piece of furniture is made of brown wood\"\n",
    "print(describe_furniture(couch)) \n",
    "# Should be \"This piece of furniture is made of red leather\""
   ]
  },
  {
   "cell_type": "code",
   "execution_count": 1,
   "metadata": {},
   "outputs": [
    {
     "name": "stdout",
     "output_type": "stream",
     "text": [
      "21\n"
     ]
    }
   ],
   "source": [
    "#Create a Dog class with dog_years based on the Piglet class shown before (one human year is about 7 dog years).\n",
    "\n",
    "\n",
    "class Dog:\n",
    "  years = 0\n",
    "  def dog_years(self):\n",
    "    return self.years*7\n",
    "    \n",
    "fido=Dog()\n",
    "fido.years=3\n",
    "print(fido.dog_years())"
   ]
  },
  {
   "cell_type": "code",
   "execution_count": 2,
   "metadata": {},
   "outputs": [
    {
     "name": "stdout",
     "output_type": "stream",
     "text": [
      "hi, my name is Alyssa\n"
     ]
    }
   ],
   "source": [
    "#In this code, there's a Person class that has an attribute name, which gets set when constructing the object. \n",
    "#Fill in the blanks so that 1) when an instance of the class is created, the attribute gets set correctly, and \n",
    "#2) when the greeting() method is called, the greeting states the assigned name.\n",
    "\n",
    "class Person:\n",
    "    def __init__(self, name):\n",
    "        self.name = name\n",
    "    def greeting(self):\n",
    "        # Should return \"hi, my name is \" followed by the name of the Person.\n",
    "        return \"hi, my name is {}\".format(self.name) \n",
    "\n",
    "# Create a new instance with a name of your choice\n",
    "some_person = Person(\"Alyssa\")  \n",
    "# Call the greeting method\n",
    "print(some_person.greeting())\n"
   ]
  },
  {
   "cell_type": "code",
   "execution_count": 11,
   "metadata": {},
   "outputs": [],
   "source": [
    "#The code below defines an Elevator class. The elevator has a current floor, it also has a top and a bottom floor that are\n",
    "#the minimum and maximum floors it can go to. Fill in the blanks to make the elevator go through the floors requested.\n",
    "\n",
    "class Elevator:\n",
    "    def __init__(self, bottom, top, current):\n",
    "        \"\"\"Initializes the Elevator instance.\"\"\"\n",
    "        self.bottom = bottom \n",
    "        self.top = top\n",
    "        self.current = current\n",
    "        \n",
    "    def up(self):\n",
    "        \"\"\"Makes the elevator go up one floor.\"\"\"\n",
    "        if abs(self.current)<self.top:\n",
    "            self.current = self.current+1\n",
    "        else :\n",
    "            self.current = self.top\n",
    "        \n",
    "    def down(self):\n",
    "        \"\"\"Makes the elevator go down one floor.\"\"\"\n",
    "        if self.current>self.bottom:\n",
    "            self.current = self.current-1\n",
    "        else:\n",
    "            self.current = self.bottom\n",
    "        \n",
    "    def go_to(self, floor):\n",
    "        \"\"\"Makes the elevator go to the specific floor.\"\"\"\n",
    "        if (floor+self.current)<=self.top and (floor+self.current)>=self.bottom:\n",
    "            self.current =floor\n",
    "    def __str__(self):\n",
    "        return \"Current floor: {}\".format(self.current)\n",
    "\n",
    "elevator = Elevator(-1, 10, 0)"
   ]
  },
  {
   "cell_type": "code",
   "execution_count": 5,
   "metadata": {},
   "outputs": [
    {
     "data": {
      "text/plain": [
       "1"
      ]
     },
     "execution_count": 5,
     "metadata": {},
     "output_type": "execute_result"
    }
   ],
   "source": [
    "elevator.up() \n",
    "elevator.current #should output 1"
   ]
  },
  {
   "cell_type": "code",
   "execution_count": 6,
   "metadata": {},
   "outputs": [
    {
     "data": {
      "text/plain": [
       "0"
      ]
     },
     "execution_count": 6,
     "metadata": {},
     "output_type": "execute_result"
    }
   ],
   "source": [
    "elevator.down() \n",
    "elevator.current #should output 0"
   ]
  },
  {
   "cell_type": "code",
   "execution_count": 7,
   "metadata": {},
   "outputs": [
    {
     "data": {
      "text/plain": [
       "10"
      ]
     },
     "execution_count": 7,
     "metadata": {},
     "output_type": "execute_result"
    }
   ],
   "source": [
    "elevator.go_to(10) \n",
    "elevator.current #should output 10"
   ]
  },
  {
   "cell_type": "code",
   "execution_count": 17,
   "metadata": {},
   "outputs": [
    {
     "name": "stdout",
     "output_type": "stream",
     "text": [
      "9\n",
      "1\n"
     ]
    }
   ],
   "source": [
    "# Go to the top floor. Try to go up, it should stay. Then go down.\n",
    "elevator = Elevator(-1,10,0)\n",
    "elevator.go_to(10)\n",
    "elevator.up()\n",
    "elevator.down()\n",
    "print(elevator.current) # should be 9\n",
    "# Go to the bottom floor. Try to go down, it should stay. Then go up.\n",
    "elevator.go_to(-1)\n",
    "elevator.down()\n",
    "elevator.down()\n",
    "elevator.up()\n",
    "elevator.up()\n",
    "print(elevator.current) # should be 1"
   ]
  },
  {
   "cell_type": "code",
   "execution_count": 18,
   "metadata": {},
   "outputs": [
    {
     "name": "stdout",
     "output_type": "stream",
     "text": [
      "Current floor: 5\n"
     ]
    }
   ],
   "source": [
    "elevator.go_to(5)\n",
    "print(elevator)"
   ]
  },
  {
   "cell_type": "markdown",
   "metadata": {},
   "source": [
    "## DocStrings"
   ]
  },
  {
   "cell_type": "code",
   "execution_count": 3,
   "metadata": {},
   "outputs": [
    {
     "name": "stdout",
     "output_type": "stream",
     "text": [
      "Help on function greeting in module __main__:\n",
      "\n",
      "greeting(self)\n",
      "    Outputs a message with the name of the person\n",
      "\n"
     ]
    }
   ],
   "source": [
    "#Let’s add a docstring to the greeting method. How about, “Outputs a message with the name of the person”.\n",
    "\n",
    "class Person:\n",
    "  def __init__(self, name):\n",
    "    self.name = name\n",
    "  def greeting(self):\n",
    "    \"\"\"Outputs a message with the name of the person\"\"\"\n",
    "    print(\"Hello! My name is {name}.\".format(name=self.name)) \n",
    "\n",
    "help(Person.greeting)\n"
   ]
  },
  {
   "cell_type": "markdown",
   "metadata": {},
   "source": [
    "## Inheritance"
   ]
  },
  {
   "cell_type": "code",
   "execution_count": 1,
   "metadata": {},
   "outputs": [
    {
     "name": "stdout",
     "output_type": "stream",
     "text": [
      "This Polo is made of Cotton\n"
     ]
    }
   ],
   "source": [
    "#Let’s create a new class together and inherit from it. Below we have a base class called Clothing. \n",
    "#Together, let’s create a second class, called Shirt, that inherits methods from the Clothing class.\n",
    "\n",
    "class Clothing:\n",
    "  material = \"\"\n",
    "  def __init__(self,name):\n",
    "    self.name = name\n",
    "  def checkmaterial(self):\n",
    "\t  print(\"This {} is made of {}\".format(self.name,self.material))\n",
    "\t\t\t\n",
    "class Shirt(Clothing):\n",
    "  material=\"Cotton\"\n",
    "\n",
    "polo = Shirt(\"Polo\")\n",
    "polo.checkmaterial()"
   ]
  },
  {
   "cell_type": "code",
   "execution_count": 2,
   "metadata": {},
   "outputs": [
    {
     "name": "stdout",
     "output_type": "stream",
     "text": [
      "10\n"
     ]
    }
   ],
   "source": [
    "# Your mission: Finish the \"Stock_by_Material\" method and iterate over the amount of each item of a given material that is\n",
    "#in stock. When you’re finished, the script should add up to 10 cotton Polo shirts.\n",
    "\n",
    "class Clothing:\n",
    "  stock={ 'name': [],'material' :[], 'amount':[]}\n",
    "  def __init__(self,name):\n",
    "    material = \"\"\n",
    "    self.name = name\n",
    "  def add_item(self, name, material, amount):\n",
    "    Clothing.stock['name'].append(self.name)\n",
    "    Clothing.stock['material'].append(self.material)\n",
    "    Clothing.stock['amount'].append(amount)\n",
    "  def Stock_by_Material(self, material):\n",
    "    count=0\n",
    "    n=0\n",
    "    for item in Clothing.stock['material']:\n",
    "      if item == material:\n",
    "        count += Clothing.stock['amount'][n]\n",
    "        n+=1\n",
    "    return count\n",
    "\n",
    "class shirt(Clothing):\n",
    "  material=\"Cotton\"\n",
    "class pants(Clothing):\n",
    "  material=\"Cotton\"\n",
    "  \n",
    "polo = shirt(\"Polo\")\n",
    "sweatpants = pants(\"Sweatpants\")\n",
    "polo.add_item(polo.name, polo.material, 4)\n",
    "sweatpants.add_item(sweatpants.name, sweatpants.material, 6)\n",
    "current_stock = polo.Stock_by_Material(\"Cotton\")\n",
    "print(current_stock)"
   ]
  },
  {
   "cell_type": "markdown",
   "metadata": {},
   "source": [
    "### CODE REUSE PARCTICE"
   ]
  },
  {
   "cell_type": "code",
   "execution_count": 14,
   "metadata": {},
   "outputs": [
    {
     "name": "stdout",
     "output_type": "stream",
     "text": [
      "reptile\n"
     ]
    }
   ],
   "source": [
    "class Animal:\n",
    "    name = \"\"\n",
    "    category = \"\"\n",
    "    \n",
    "    def __init__(self, name):\n",
    "        self.name = name\n",
    "    \n",
    "    def set_category(self, category):\n",
    "        self.category = category\n",
    "        \n",
    "class Turtle(Animal):\n",
    "    category = \"reptile\"\n",
    "    \n",
    "print(Turtle.category)"
   ]
  },
  {
   "cell_type": "code",
   "execution_count": 15,
   "metadata": {},
   "outputs": [],
   "source": [
    "class Snake(Animal):\n",
    "    category=\"reptile\""
   ]
  },
  {
   "cell_type": "markdown",
   "metadata": {},
   "source": [
    "#### Now, let’s say we have a large variety of Animals (such as turtles and snakes) in a Zoo. Below we have the Zoo class. We’re going to use it to organize our various Animals. Remember, inheritance says a Turtle is an Animal, but a Zoo is not an Animal and an Animal is not a Zoo -- though they are related to one another. \n",
    "\n",
    "#### Fill in the blanks of the Zoo class below so that you can use zoo.add_animal( ) to add instances of the Animal subclasses you created above. Once you’ve added them all, you should be able to use zoo.total_of_category( ) to tell you exactly how many individual Animal types the Zoo has for each category! Be sure to run the cell once you've finished your edits."
   ]
  },
  {
   "cell_type": "code",
   "execution_count": 16,
   "metadata": {},
   "outputs": [],
   "source": [
    "class Zoo:\n",
    "    def __init__(self):\n",
    "        self.current_animals = {}\n",
    "    \n",
    "    def add_animal(self, animal):\n",
    "        self.current_animals[animal.name] = animal.category\n",
    "    \n",
    "    def total_of_category(self, category):\n",
    "        result = 0\n",
    "        for animal in self.current_animals.values():\n",
    "            if animal == category:\n",
    "                result += 1\n",
    "        return result\n",
    "\n",
    "zoo = Zoo()"
   ]
  },
  {
   "cell_type": "code",
   "execution_count": 17,
   "metadata": {},
   "outputs": [
    {
     "name": "stdout",
     "output_type": "stream",
     "text": [
      "2\n"
     ]
    }
   ],
   "source": [
    "turtle = Turtle(\"Turtle\") #create an instance of the Turtle class\n",
    "snake = Snake(\"Snake\") #create an instance of the Snake class\n",
    "class Bitch(Animal):\n",
    "    category=\"Mammal\"\n",
    "bitch = Bitch(\"Bitch\")\n",
    "\n",
    "zoo.add_animal(turtle)\n",
    "zoo.add_animal(snake)\n",
    "zoo.add_animal(bitch)\n",
    "\n",
    "print(zoo.total_of_category(\"reptile\")) #how many zoo animal types in the reptile category"
   ]
  },
  {
   "cell_type": "markdown",
   "metadata": {},
   "source": [
    "## Assessment - Object-oriented programming"
   ]
  },
  {
   "cell_type": "markdown",
   "metadata": {},
   "source": [
    "#### In this exercise, we'll create a few classes to simulate a server that's taking connections from the outside and then a load balancer that ensures that there are enough servers to serve those connections.\n",
    "\n",
    "#### To represent the servers that are taking care of the connections, we'll use a Server class. Each connection is represented by an id, that could, for example, be the IP address of the computer connecting to the server. For our simulation, each connection creates a random amount of load in the server, between 1 and 10.\n",
    "\n",
    "#### Run the following code that defines this Server class."
   ]
  },
  {
   "cell_type": "code",
   "execution_count": 18,
   "metadata": {},
   "outputs": [],
   "source": [
    "#Begin Portion 1#\n",
    "import random\n",
    "\n",
    "class Server:\n",
    "    def __init__(self):\n",
    "        \"\"\"Creates a new server instance, with no active connections.\"\"\"\n",
    "        self.connections = {}\n",
    "\n",
    "    def add_connection(self, connection_id):\n",
    "        \"\"\"Adds a new connection to this server.\"\"\"\n",
    "        connection_load = random.random()*10+1\n",
    "        # Add the connection to the dictionary with the calculated load\n",
    "        self.connections[connection_id]=connection_load\n",
    "\n",
    "    def close_connection(self, connection_id):\n",
    "        \"\"\"Closes a connection on this server.\"\"\"\n",
    "        # Remove the connection from the dictionary\n",
    "        self.connections.pop(connection_id)\n",
    "\n",
    "    def load(self):\n",
    "        \"\"\"Calculates the current load for all connections.\"\"\"\n",
    "        total = 0\n",
    "        # Add up the load for each of the connections\n",
    "        for i in self.connections.values():\n",
    "            total+=i\n",
    "        return total\n",
    "\n",
    "    def __str__(self):\n",
    "        \"\"\"Returns a string with the current load of the server\"\"\"\n",
    "        return \"{:.2f}%\".format(self.load())\n",
    "    \n",
    "#End Portion 1#\n"
   ]
  },
  {
   "cell_type": "markdown",
   "metadata": {},
   "source": [
    "#### Now run the following cell to create a Server instance and add a connection to it, then check the load:"
   ]
  },
  {
   "cell_type": "code",
   "execution_count": 19,
   "metadata": {},
   "outputs": [
    {
     "name": "stdout",
     "output_type": "stream",
     "text": [
      "5.940346638058881\n"
     ]
    }
   ],
   "source": [
    "server = Server()\n",
    "server.add_connection(\"192.168.1.1\")\n",
    "\n",
    "print(server.load())"
   ]
  },
  {
   "cell_type": "markdown",
   "metadata": {},
   "source": [
    "#### After running the above code cell, if you get a NameError message, be sure to run the Server class definition code block first.\n",
    "\n",
    "#### The output should be 0. This is because some things are missing from the Server class. So, you'll need to go back and fill in the blanks to make it behave properly.\n",
    "\n",
    "#### Go back to the Server class definition and fill in the missing parts for the add_connection and load methods to make the cell above print a number different than zero. As the load is calculated randomly, this number should be different each time the code is executed.\n",
    "\n",
    "#### Hint: Recall that you can iterate through the values of your connections dictionary just as you would any sequence.\n",
    "\n",
    "#### Great! If your output is a random number between 1 and 10, you have successfully coded the add_connection and load methods of the Server class. Well done!\n",
    "\n",
    "#### What about closing a connection? Right now the close_connection method doesn't do anything. Go back to the Server class definition and fill in the missing code for the close_connection method to make the following code work correctly:"
   ]
  },
  {
   "cell_type": "code",
   "execution_count": 20,
   "metadata": {},
   "outputs": [
    {
     "name": "stdout",
     "output_type": "stream",
     "text": [
      "0\n"
     ]
    }
   ],
   "source": [
    "server.close_connection(\"192.168.1.1\")\n",
    "print(server.load())"
   ]
  },
  {
   "cell_type": "markdown",
   "metadata": {},
   "source": [
    "#### You have successfully coded the close_connection method if the cell above prints 0.\n",
    "\n",
    "#### Hint: Remember that del dictionary[key] removes the item with key key from the dictionary.\n",
    "\n",
    "#### Alright, we now have a basic implementation of the server class. Let's look at the basic LoadBalancing class. This class will start with only one server available. When a connection gets added, it will randomly select a server to serve that connection, and then pass on the connection to the server. The LoadBalancing class also needs to keep track of the ongoing connections to be able to close them. This is the basic structure:"
   ]
  },
  {
   "cell_type": "code",
   "execution_count": 21,
   "metadata": {},
   "outputs": [],
   "source": [
    "#Begin Portion 2#\n",
    "class LoadBalancing:\n",
    "    def __init__(self):\n",
    "        \"\"\"Initialize the load balancing system with one server\"\"\"\n",
    "        self.connections = {}\n",
    "        self.servers = [Server()]\n",
    "\n",
    "    def add_connection(self, connection_id):\n",
    "        \"\"\"Randomly selects a server and adds a connection to it.\"\"\"\n",
    "        server = random.choice(self.servers)\n",
    "        # Add the connection to the dictionary with the selected server\n",
    "        # Add the connection to the server\n",
    "        server.add_connection(connection_id)\n",
    "        self.ensure_availability()\n",
    "\n",
    "    def close_connection(self, connection_id):\n",
    "        \"\"\"Closes the connection on the the server corresponding to connection_id.\"\"\"\n",
    "        # Find out the right server\n",
    "        # Close the connection on the server\n",
    "        # Remove the connection from the load balancer\n",
    "        for server in self.servers:\n",
    "            if connection_id in server.connections:\n",
    "                server.close_connection(connection_id)\n",
    "                break\n",
    "                \n",
    "\n",
    "    def avg_load(self):\n",
    "        \"\"\"Calculates the average load of all servers\"\"\"\n",
    "        # Sum the load of each server and divide by the amount of servers\n",
    "        total_load = 0\n",
    "        total_server = 0\n",
    "        for server in self.servers:\n",
    "            total_load += server.load()\n",
    "            total_server += 1\n",
    "        return total_load/total_server\n",
    "\n",
    "    def ensure_availability(self):\n",
    "        \"\"\"If the average load is higher than 50, spin up a new server\"\"\"\n",
    "        if self.avg_load() > 50:\n",
    "            self.servers.append(Server())\n",
    "\n",
    "    def __str__(self):\n",
    "        \"\"\"Returns a string with the load for each server.\"\"\"\n",
    "        loads = [str(server) for server in self.servers]\n",
    "        return \"[{}]\".format(\",\".join(loads))\n",
    "#End Portion 2#"
   ]
  },
  {
   "cell_type": "markdown",
   "metadata": {},
   "source": [
    "#### As with the Server class, this class is currently incomplete. You need to fill in the gaps to make it work correctly. For example, this snippet should create a connection in the load balancer, assign it to a running server and then the load should be more than zero:\n",
    "\n"
   ]
  },
  {
   "cell_type": "code",
   "execution_count": 22,
   "metadata": {},
   "outputs": [
    {
     "name": "stdout",
     "output_type": "stream",
     "text": [
      "3.214022582902395\n"
     ]
    }
   ],
   "source": [
    "l = LoadBalancing()\n",
    "l.add_connection(\"fdca:83d2::f20d\")\n",
    "print(l.avg_load())"
   ]
  },
  {
   "cell_type": "markdown",
   "metadata": {},
   "source": [
    "#### After running the above code, the output is 0. Fill in the missing parts for the add_connection and avg_load methods of the LoadBalancing class to make this print the right load. Be sure that the load balancer now has an average load more than 0 before proceeding.\n",
    "\n",
    "#### What if we add a new server?"
   ]
  },
  {
   "cell_type": "code",
   "execution_count": 23,
   "metadata": {},
   "outputs": [
    {
     "name": "stdout",
     "output_type": "stream",
     "text": [
      "1.6070112914511976\n"
     ]
    }
   ],
   "source": [
    "l.servers.append(Server())\n",
    "print(l.avg_load())"
   ]
  },
  {
   "cell_type": "markdown",
   "metadata": {},
   "source": [
    "#### The average load should now be half of what it was before. If it's not, make sure you correctly fill in the missing gaps for the add_connection and avg_load methods so that this code works correctly.\n",
    "\n",
    "#### Hint: You can iterate through the all servers in the self.servers list to get the total server load amount and then divide by the length of the self.servers list to compute the average load amount.\n",
    "\n",
    "#### Fantastic! Now what about closing the connection?"
   ]
  },
  {
   "cell_type": "code",
   "execution_count": 24,
   "metadata": {},
   "outputs": [
    {
     "name": "stdout",
     "output_type": "stream",
     "text": [
      "0.0\n"
     ]
    }
   ],
   "source": [
    "l.close_connection(\"fdca:83d2::f20d\")\n",
    "print(l.avg_load())\n"
   ]
  },
  {
   "cell_type": "markdown",
   "metadata": {},
   "source": [
    "#### Fill in the code of the LoadBalancing class to make the load go back to zero once the connection is closed.\n",
    "\n",
    "#### Great job! Before, we added a server manually. But we want this to happen automatically when the average load is more than 50%. To make this possible, fill in the missing code for the ensure_availability method and call it from the add_connection method after a connection has been added. You can test it with the following code:"
   ]
  },
  {
   "cell_type": "code",
   "execution_count": 25,
   "metadata": {},
   "outputs": [
    {
     "name": "stdout",
     "output_type": "stream",
     "text": [
      "[39.05%,68.22%,18.69%]\n"
     ]
    }
   ],
   "source": [
    "for connection in range(20):\n",
    "    l.add_connection(connection)\n",
    "print(l)"
   ]
  },
  {
   "cell_type": "markdown",
   "metadata": {},
   "source": [
    "#### The code above adds 20 new connections and then prints the loads for each server in the load balancer. If you coded correctly, new servers should have been added automatically to ensure that the average load of all servers is not more than 50%.\n",
    "\n",
    "#### Run the following code to verify that the average load of the load balancer is not more than 50%.\n",
    "#### Awesome! If the average load is indeed less than 50%, you are all done with this assessment."
   ]
  },
  {
   "cell_type": "code",
   "execution_count": 27,
   "metadata": {},
   "outputs": [
    {
     "name": "stdout",
     "output_type": "stream",
     "text": [
      "41.98582755400486\n"
     ]
    }
   ],
   "source": [
    "print(l.avg_load())"
   ]
  },
  {
   "cell_type": "code",
   "execution_count": null,
   "metadata": {},
   "outputs": [],
   "source": []
  }
 ],
 "metadata": {
  "kernelspec": {
   "display_name": "Python 3",
   "language": "python",
   "name": "python3"
  },
  "language_info": {
   "codemirror_mode": {
    "name": "ipython",
    "version": 3
   },
   "file_extension": ".py",
   "mimetype": "text/x-python",
   "name": "python",
   "nbconvert_exporter": "python",
   "pygments_lexer": "ipython3",
   "version": "3.7.4"
  }
 },
 "nbformat": 4,
 "nbformat_minor": 2
}
